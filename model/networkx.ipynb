{
 "cells": [
  {
   "cell_type": "code",
   "execution_count": 1,
   "id": "b20021e6",
   "metadata": {
    "tags": []
   },
   "outputs": [],
   "source": [
    "# import libraries\n",
    "import pandas as pd\n",
    "import networkx as nx\n",
    "import matplotlib.pyplot as plt"
   ]
  },
  {
   "cell_type": "code",
   "execution_count": 12,
   "id": "2eb53a6e",
   "metadata": {
    "tags": []
   },
   "outputs": [],
   "source": [
    "def bridge_network():\n",
    "    \"\"\"\n",
    "    returns a multi directed graph which includes bridges and intersections between roads\n",
    "    \"\"\"\n",
    "    # import data\n",
    "    df = pd.read_csv('../data/bridges_cleaned.csv')\n",
    "    # for now we use N1 and N2 only, roads with intersections excluded\n",
    "    # TODO import database with roads with intersections too, for all rows\n",
    "    df = df[(df['road']=='N1')]\n",
    "    # only get first few rows\n",
    "    df = df[0:5]\n",
    "    # drop old column named index\n",
    "    df = df.drop(\"index\", axis='columns')\n",
    "\n",
    "    # sort roads dataframe based on road name and chainage\n",
    "    df = df.sort_values(by=['road', 'km'])\n",
    "    # reset index\n",
    "    df = df.reset_index(drop=True)\n",
    "    # rename\n",
    "    df.rename({'Unnamed: 0': 'index'}, axis=1, inplace=True)\n",
    "    # retrieve all roads in dataset\n",
    "    roads = df['road'].unique().tolist()\n",
    "\n",
    "    G= nx.MultiDiGraph()\n",
    "    # for each road in list roads\n",
    "    for road in roads: \n",
    "        # subset all data points for the road\n",
    "        road_subset = df[df['road'] == road]\n",
    "        for index, row in road_subset.iterrows():\n",
    "            G.add_node(row['index'], pos = (row['lat'], row['lon']))\n",
    "            # retrieve all edges between bridges for one road\n",
    "        edges = [(index, index+1) for index, row in road_subset.iterrows()]\n",
    "        # remove last one, which is out of bound\n",
    "        edges.pop()\n",
    "        # reverse subset\n",
    "        road_subset_reversed = road_subset.iloc[::-1]\n",
    "        # get all reversed indexes and add to list of edges\n",
    "        edges += [(index, index-1) for index, row in road_subset_reversed.iterrows()]\n",
    "        # remove last one, which is out of bound\n",
    "        edges.pop()\n",
    "        # add all edges \n",
    "        G.add_edges_from(edges)   \n",
    "        \n",
    "           \n",
    "    for u,v,k in G.edges: \n",
    "        # obtain distance between nodes\n",
    "        distance = abs((road_subset.iloc[u, road_subset.columns.get_indexer(['km'])].values) - \n",
    "                       (road_subset.iloc[v, road_subset.columns.get_indexer(['km'])].values))\n",
    "        # from kilometers to meters\n",
    "        distance = distance * 1000 \n",
    "        # assign distance as weight to edge\n",
    "        G[u][v][k]['weight'] = distance\n",
    "    \n",
    "    # return network\n",
    "    return G"
   ]
  },
  {
   "cell_type": "code",
   "execution_count": 4,
   "id": "cf981889-adbb-4a54-9fd1-859de884e256",
   "metadata": {},
   "outputs": [],
   "source": [
    "def intersection_network(): \n",
    "    \"\"\"\n",
    "    returns a multi directed graph which only includes intersections\n",
    "    \"\"\"\n",
    "    # import data\n",
    "    df = pd.read_csv('../data/bridges_cleaned.csv')\n",
    "    # for now we use N1 and N2 only, roads with intersections excluded\n",
    "    # TODO import database with roads with intersections too, for all rows\n",
    "    df = df[(df['road']=='N1')]\n",
    "    # only get first few rows\n",
    "    df = df[0:5]\n",
    "    # drop old column named index\n",
    "    df = df.drop(\"index\", axis='columns')\n",
    "\n",
    "    # sort roads dataframe based on road name and chainage\n",
    "    df = df.sort_values(by=['road', 'km'])\n",
    "    # reset index\n",
    "    df = df.reset_index(drop=True)\n",
    "    # rename\n",
    "    df.rename({'Unnamed: 0': 'index'}, axis=1, inplace=True)\n",
    "    # retrieve all roads in dataset\n",
    "    roads = df['road'].unique().tolist()\n",
    "    \n",
    "    G= nx.MultiDiGraph()\n",
    "    # for each road in list roads\n",
    "    for road in roads: \n",
    "        # subset all data points for the road\n",
    "        road_subset = df[df['road'] == road]\n",
    "        for index, row in road_subset.iterrows():\n",
    "            # if row is an intersection\n",
    "            if row['model_type'] == 'intersection': \n",
    "                # add node to graph\n",
    "                G.add_node(row['index'], pos = (row['lat'], row['lon']))\n",
    "        # retrieve all edges between intersections for one road\n",
    "        edges = [(index, index+1) for index, row in road_subset.iterrows()]\n",
    "        # remove last one, which is out of bound\n",
    "        edges.pop()\n",
    "        # reverse subset\n",
    "        road_subset_reversed = road_subset.iloc[::-1]\n",
    "        # get all reversed indexes and add to list of edges\n",
    "        edges += [(index, index-1) for index, row in road_subset_reversed.iterrows()]\n",
    "        # remove last one, which is out of bound\n",
    "        edges.pop()\n",
    "        # add all edges \n",
    "        G.add_edges_from(edges)   \n",
    "        \n",
    "    # TODO how to compute distance between intersections, use column with cumulative sum? \n",
    "    for u,v,k in G.edges: \n",
    "        distance = abs((road_subset.iloc[u, road_subset.columns.get_indexer(['km'])].values) - \n",
    "                       (road_subset.iloc[v, road_subset.columns.get_indexer(['km'])].values))\n",
    "        # from kilometers to meters\n",
    "        distance = distance * 1000 \n",
    "        G[u][v][k]['weight'] = distance\n",
    "    \n",
    "    # return network\n",
    "    return G"
   ]
  },
  {
   "cell_type": "code",
   "execution_count": 17,
   "id": "c57406e1",
   "metadata": {},
   "outputs": [],
   "source": [
    "def visualize_graph(visual = 'bridges'): \n",
    "    if visual == 'bridges': \n",
    "        # call network\n",
    "        network = bridge_network()\n",
    "    elif visual == 'intersections': \n",
    "        # call network\n",
    "        network = intersection_network()\n",
    "        \n",
    "    # get position of nodes\n",
    "    pos = nx.get_node_attributes(network, 'pos')\n",
    "    # draw network based on position\n",
    "    nx.draw(network, pos, with_labels=True, connectionstyle='arc3, rad = 0.1')\n",
    "    # show plot\n",
    "    plt.show()"
   ]
  },
  {
   "cell_type": "code",
   "execution_count": 18,
   "id": "c3d25bea",
   "metadata": {},
   "outputs": [
    {
     "data": {
      "image/png": "[encoded data removed]",
      "text/plain": [
       "<Figure size 640x480 with 1 Axes>"
      ]
     },
     "metadata": {},
     "output_type": "display_data"
    }
   ],
   "source": [
    "visualize_graph('bridges')"
   ]
  },
  {
   "cell_type": "code",
   "execution_count": 25,
   "id": "2c70f459-9e8f-4066-bf09-5a6a902b56ca",
   "metadata": {
    "ExecuteTime": {
     "end_time": "2024-03-15T19:49:19.629603Z",
     "start_time": "2024-03-15T19:49:19.620078Z"
    }
   },
   "outputs": [],
   "source": [
    "def get_shortest_path(origin, destination):\n",
    "    \"\"\"\n",
    "    gives the shortest path between an origin and destination, \n",
    "    based on bridge network defined using NetworkX library, \n",
    "    and adds tihis path to path_ids_dict\n",
    "    \"\"\"\n",
    "\n",
    "    # call network\n",
    "    #TODO make network a model attribute?\n",
    "    network = bridge_network()\n",
    "    #first, check if there already is a shortest path:\n",
    "    # TODO add shortest_path_dict to model attributes\n",
    "    if key in self.shortest_path_dict.keys():\n",
    "        return self.shortest_path_dict[source, sink]\n",
    "    else:\n",
    "        # compute shortest path between origin and destination based on distance (which is weight)\n",
    "        shortest_path = nx.shortest_path(network, origin, destination, weight='weight')\n",
    "        # format shortest path in dictionary structure\n",
    "        self.shortest_path_dict[origin, destination] = shortest_path\n",
    "        return self.shortest_path_dict[source, sink]\n",
    "        # test to see shortest path in dictionary structure\n",
    "        #return self.shortest_path_dict"
   ]
  },
  {
   "cell_type": "code",
   "execution_count": 26,
   "id": "82aa3f6c",
   "metadata": {},
   "outputs": [
    {
     "data": {
      "text/plain": [
       "{(2, 4): [2, 3, 4]}"
      ]
     },
     "execution_count": 26,
     "metadata": {},
     "output_type": "execute_result"
    }
   ],
   "source": [
    "get_shortest_path(origin = 2, destination = 4)"
   ]
  },
  {
   "cell_type": "code",
   "execution_count": null,
   "outputs": [],
   "source": [],
   "metadata": {
    "collapsed": false
   }
  },
  {
   "cell_type": "markdown",
   "source": [
    "# TODO modify methods so that get shortest path method is also included\n",
    "# if shortest path already in path_ids_dict, don't compute shortest path again and just take it\n",
    "# else compute shortest path using get shortest path method\n",
    "def get_random_route(self, source):\n",
    "    \"\"\"\n",
    "    pick up a random route given an origin\n",
    "    \"\"\"\n",
    "    while True:\n",
    "        # different source and sink\n",
    "        sink = self.random.choice(self.sinks)\n",
    "        if sink is not source:\n",
    "            break\n",
    "    return self.path_ids_dict[source, sink]\n",
    "\n",
    "def get_straight_route(self, source):\n",
    "    \"\"\"\n",
    "    pick up a straight route given an origin\n",
    "    \"\"\"\n",
    "    return self.path_ids_dict[source, None]\n",
    "\n",
    "# TODO change default straight route, include random route method too\n",
    "def get_route(self, source):\n",
    "    return self.get_straight_route(source)"
   ],
   "metadata": {
    "collapsed": false
   }
  }
 ],
 "metadata": {
  "kernelspec": {
   "display_name": "Python 3 (ipykernel)",
   "language": "python",
   "name": "python3"
  },
  "language_info": {
   "codemirror_mode": {
    "name": "ipython",
    "version": 3
   },
   "file_extension": ".py",
   "mimetype": "text/x-python",
   "name": "python",
   "nbconvert_exporter": "python",
   "pygments_lexer": "ipython3",
   "version": "3.11.5"
  }
 },
 "nbformat": 4,
 "nbformat_minor": 5
}
