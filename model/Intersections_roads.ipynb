{
 "cells": [
  {
   "cell_type": "code",
   "execution_count": 311,
   "id": "83572951-689a-4616-a697-06833bd28e8e",
   "metadata": {
    "ExecuteTime": {
     "end_time": "2024-03-16T19:24:53.155923Z",
     "start_time": "2024-03-16T19:24:53.148413Z"
    }
   },
   "outputs": [],
   "source": [
    "import os\n",
    "os.environ['USE_PYGEOS'] = '0'\n",
    "import pandas as pd\n",
    "import geopandas as gpd\n",
    "import matplotlib.pyplot as plt\n",
    "import contextily as cx \n",
    "from shapely.geometry import Point, LineString\n",
    "from shapely import distance\n",
    "import numpy as np"
   ]
  },
  {
   "cell_type": "code",
   "execution_count": 312,
   "id": "initial_id",
   "metadata": {
    "ExecuteTime": {
     "end_time": "2024-03-16T19:24:53.261217Z",
     "start_time": "2024-03-16T19:24:53.159252Z"
    }
   },
   "outputs": [],
   "source": [
    "main_folder_path =os.path.normpath(os.getcwd() + os.sep + os.pardir)\n",
    "df =pd.read_csv(main_folder_path+\"\\\\data\\\\_roads3.csv\")"
   ]
  },
  {
   "cell_type": "markdown",
   "source": [],
   "metadata": {
    "collapsed": false
   },
   "id": "c3b7535fc2b90333"
  },
  {
   "cell_type": "code",
   "outputs": [],
   "source": [
    "gdf = gpd.GeoDataFrame(\n",
    "    df, geometry=gpd.points_from_xy(df.lon, df.lat), crs=\"EPSG:4326\")"
   ],
   "metadata": {
    "collapsed": false,
    "ExecuteTime": {
     "end_time": "2024-03-16T19:24:53.335968Z",
     "start_time": "2024-03-16T19:24:53.263751Z"
    }
   },
   "id": "d97b63f3bdc3a396",
   "execution_count": 313
  },
  {
   "cell_type": "code",
   "outputs": [],
   "source": [
    "road_names =gdf[\"road\"].unique()\n",
    "road_names_N1=[road for road in road_names if road.startswith(\"N\")]\n",
    "# print(road_names)\n",
    "line_dict = {}\n",
    "for road_name in road_names_N1:\n",
    "    # if road_name.startswith('N'):\n",
    "    bridges_road = gdf[gdf[\"road\"] == road_name]\n",
    "        # bridges_road=bridges_road.sort_ values(by=['km'])\n",
    "    if len(bridges_road[\"geometry\"]) >= 2:\n",
    "            \n",
    "        line_dict[road_name] =LineString(bridges_road[\"geometry\"])\n",
    "        \n",
    "\n",
    "gseries =gpd.GeoSeries(line_dict.values(), index=line_dict.keys(), crs=4326)\n",
    "    "
   ],
   "metadata": {
    "collapsed": false,
    "ExecuteTime": {
     "end_time": "2024-03-16T19:24:54.015067Z",
     "start_time": "2024-03-16T19:24:53.337961Z"
    }
   },
   "id": "7d6bad5e0b2da299",
   "execution_count": 314
  },
  {
   "cell_type": "code",
   "outputs": [],
   "source": [
    "cross_index_N1=[]\n",
    "for index in gseries.index:\n",
    "    if gseries[\"N1\"].intersects(gseries[index]):\n",
    "        cross_index_N1.append(index)\n",
    "cross_index_N2=[]\n",
    "for index in gseries.index:\n",
    "    if gseries[\"N2\"].intersects(gseries[index]):\n",
    "        cross_index_N2.append(index)\n",
    "\n",
    "intersecting_N1 =gseries[gseries.index.isin(cross_index_N1)]\n",
    "intersecting_N2 =gseries[gseries.index.isin(cross_index_N2)]\n",
    "\n",
    "intersections_N1 =gseries[\"N1\"].intersection(intersecting_N1).drop(\"N1\")\n",
    "intersections_N2 =gseries[\"N2\"].intersection(intersecting_N2).drop(\"N2\")\n",
    "\n",
    "gdf_N1 =gdf[gdf[\"road\"]==\"N1\"]\n",
    "gdf_N2 =gdf[gdf[\"road\"]==\"N2\"]"
   ],
   "metadata": {
    "collapsed": false,
    "ExecuteTime": {
     "end_time": "2024-03-16T19:24:54.083550Z",
     "start_time": "2024-03-16T19:24:54.018146Z"
    }
   },
   "id": "cca608748e30aa69",
   "execution_count": 315
  },
  {
   "cell_type": "code",
   "outputs": [
    {
     "name": "stdout",
     "output_type": "stream",
     "text": [
      "6 4\n"
     ]
    }
   ],
   "source": [
    "print(len(intersections_N1),len(intersections_N2))"
   ],
   "metadata": {
    "collapsed": false,
    "ExecuteTime": {
     "end_time": "2024-03-16T19:24:54.092139Z",
     "start_time": "2024-03-16T19:24:54.085249Z"
    }
   },
   "id": "505f803d61011e4c",
   "execution_count": 316
  },
  {
   "cell_type": "markdown",
   "source": [],
   "metadata": {
    "collapsed": false
   },
   "id": "77c4e53ed1008f71"
  },
  {
   "cell_type": "code",
   "outputs": [
    {
     "ename": "TypeError",
     "evalue": "first argument must be an iterable of pandas objects, you passed an object of type \"GeoDataFrame\"",
     "output_type": "error",
     "traceback": [
      "\u001B[1;31m---------------------------------------------------------------------------\u001B[0m",
      "\u001B[1;31mTypeError\u001B[0m                                 Traceback (most recent call last)",
      "Cell \u001B[1;32mIn[324], line 18\u001B[0m\n\u001B[0;32m     15\u001B[0m         closest_points\u001B[38;5;241m.\u001B[39mappend(closest_point)\n\u001B[0;32m     17\u001B[0m \u001B[38;5;66;03m# df_list.append(gdf[gdf.index.isin(closest_points)])\u001B[39;00m\n\u001B[1;32m---> 18\u001B[0m df_intersections_main \u001B[38;5;241m=\u001B[39m \u001B[43mpd\u001B[49m\u001B[38;5;241;43m.\u001B[39;49m\u001B[43mconcat\u001B[49m\u001B[43m(\u001B[49m\u001B[43mgdf\u001B[49m\u001B[43m[\u001B[49m\u001B[43mgdf\u001B[49m\u001B[38;5;241;43m.\u001B[39;49m\u001B[43mindex\u001B[49m\u001B[38;5;241;43m.\u001B[39;49m\u001B[43misin\u001B[49m\u001B[43m(\u001B[49m\u001B[43mclosest_points\u001B[49m\u001B[43m)\u001B[49m\u001B[43m]\u001B[49m\u001B[43m,\u001B[49m\u001B[43m \u001B[49m\u001B[43maxis\u001B[49m\u001B[38;5;241;43m=\u001B[39;49m\u001B[38;5;241;43m0\u001B[39;49m\u001B[43m,\u001B[49m\u001B[43m \u001B[49m\u001B[43mignore_index\u001B[49m\u001B[38;5;241;43m=\u001B[39;49m\u001B[38;5;28;43;01mTrue\u001B[39;49;00m\u001B[43m)\u001B[49m\n\u001B[0;32m     19\u001B[0m df_intersections_main[\u001B[38;5;124m\"\u001B[39m\u001B[38;5;124mintersec_to\u001B[39m\u001B[38;5;124m\"\u001B[39m]\u001B[38;5;241m=\u001B[39mindex_list\n\u001B[0;32m     20\u001B[0m df_intersections_main[\u001B[38;5;124m\"\u001B[39m\u001B[38;5;124mtype\u001B[39m\u001B[38;5;124m\"\u001B[39m] \u001B[38;5;241m=\u001B[39m \u001B[38;5;124m\"\u001B[39m\u001B[38;5;124mintersection\u001B[39m\u001B[38;5;124m\"\u001B[39m\n",
      "File \u001B[1;32m~\\anaconda3\\envs\\gds\\lib\\site-packages\\pandas\\core\\reshape\\concat.py:380\u001B[0m, in \u001B[0;36mconcat\u001B[1;34m(objs, axis, join, ignore_index, keys, levels, names, verify_integrity, sort, copy)\u001B[0m\n\u001B[0;32m    377\u001B[0m \u001B[38;5;28;01melif\u001B[39;00m copy \u001B[38;5;129;01mand\u001B[39;00m using_copy_on_write():\n\u001B[0;32m    378\u001B[0m     copy \u001B[38;5;241m=\u001B[39m \u001B[38;5;28;01mFalse\u001B[39;00m\n\u001B[1;32m--> 380\u001B[0m op \u001B[38;5;241m=\u001B[39m \u001B[43m_Concatenator\u001B[49m\u001B[43m(\u001B[49m\n\u001B[0;32m    381\u001B[0m \u001B[43m    \u001B[49m\u001B[43mobjs\u001B[49m\u001B[43m,\u001B[49m\n\u001B[0;32m    382\u001B[0m \u001B[43m    \u001B[49m\u001B[43maxis\u001B[49m\u001B[38;5;241;43m=\u001B[39;49m\u001B[43maxis\u001B[49m\u001B[43m,\u001B[49m\n\u001B[0;32m    383\u001B[0m \u001B[43m    \u001B[49m\u001B[43mignore_index\u001B[49m\u001B[38;5;241;43m=\u001B[39;49m\u001B[43mignore_index\u001B[49m\u001B[43m,\u001B[49m\n\u001B[0;32m    384\u001B[0m \u001B[43m    \u001B[49m\u001B[43mjoin\u001B[49m\u001B[38;5;241;43m=\u001B[39;49m\u001B[43mjoin\u001B[49m\u001B[43m,\u001B[49m\n\u001B[0;32m    385\u001B[0m \u001B[43m    \u001B[49m\u001B[43mkeys\u001B[49m\u001B[38;5;241;43m=\u001B[39;49m\u001B[43mkeys\u001B[49m\u001B[43m,\u001B[49m\n\u001B[0;32m    386\u001B[0m \u001B[43m    \u001B[49m\u001B[43mlevels\u001B[49m\u001B[38;5;241;43m=\u001B[39;49m\u001B[43mlevels\u001B[49m\u001B[43m,\u001B[49m\n\u001B[0;32m    387\u001B[0m \u001B[43m    \u001B[49m\u001B[43mnames\u001B[49m\u001B[38;5;241;43m=\u001B[39;49m\u001B[43mnames\u001B[49m\u001B[43m,\u001B[49m\n\u001B[0;32m    388\u001B[0m \u001B[43m    \u001B[49m\u001B[43mverify_integrity\u001B[49m\u001B[38;5;241;43m=\u001B[39;49m\u001B[43mverify_integrity\u001B[49m\u001B[43m,\u001B[49m\n\u001B[0;32m    389\u001B[0m \u001B[43m    \u001B[49m\u001B[43mcopy\u001B[49m\u001B[38;5;241;43m=\u001B[39;49m\u001B[43mcopy\u001B[49m\u001B[43m,\u001B[49m\n\u001B[0;32m    390\u001B[0m \u001B[43m    \u001B[49m\u001B[43msort\u001B[49m\u001B[38;5;241;43m=\u001B[39;49m\u001B[43msort\u001B[49m\u001B[43m,\u001B[49m\n\u001B[0;32m    391\u001B[0m \u001B[43m\u001B[49m\u001B[43m)\u001B[49m\n\u001B[0;32m    393\u001B[0m \u001B[38;5;28;01mreturn\u001B[39;00m op\u001B[38;5;241m.\u001B[39mget_result()\n",
      "File \u001B[1;32m~\\anaconda3\\envs\\gds\\lib\\site-packages\\pandas\\core\\reshape\\concat.py:417\u001B[0m, in \u001B[0;36m_Concatenator.__init__\u001B[1;34m(self, objs, axis, join, keys, levels, names, ignore_index, verify_integrity, copy, sort)\u001B[0m\n\u001B[0;32m    403\u001B[0m \u001B[38;5;28;01mdef\u001B[39;00m \u001B[38;5;21m__init__\u001B[39m(\n\u001B[0;32m    404\u001B[0m     \u001B[38;5;28mself\u001B[39m,\n\u001B[0;32m    405\u001B[0m     objs: Iterable[Series \u001B[38;5;241m|\u001B[39m DataFrame] \u001B[38;5;241m|\u001B[39m Mapping[HashableT, Series \u001B[38;5;241m|\u001B[39m DataFrame],\n\u001B[1;32m   (...)\u001B[0m\n\u001B[0;32m    414\u001B[0m     sort: \u001B[38;5;28mbool\u001B[39m \u001B[38;5;241m=\u001B[39m \u001B[38;5;28;01mFalse\u001B[39;00m,\n\u001B[0;32m    415\u001B[0m ) \u001B[38;5;241m-\u001B[39m\u001B[38;5;241m>\u001B[39m \u001B[38;5;28;01mNone\u001B[39;00m:\n\u001B[0;32m    416\u001B[0m     \u001B[38;5;28;01mif\u001B[39;00m \u001B[38;5;28misinstance\u001B[39m(objs, (ABCSeries, ABCDataFrame, \u001B[38;5;28mstr\u001B[39m)):\n\u001B[1;32m--> 417\u001B[0m         \u001B[38;5;28;01mraise\u001B[39;00m \u001B[38;5;167;01mTypeError\u001B[39;00m(\n\u001B[0;32m    418\u001B[0m             \u001B[38;5;124m\"\u001B[39m\u001B[38;5;124mfirst argument must be an iterable of pandas \u001B[39m\u001B[38;5;124m\"\u001B[39m\n\u001B[0;32m    419\u001B[0m             \u001B[38;5;124mf\u001B[39m\u001B[38;5;124m'\u001B[39m\u001B[38;5;124mobjects, you passed an object of type \u001B[39m\u001B[38;5;124m\"\u001B[39m\u001B[38;5;132;01m{\u001B[39;00m\u001B[38;5;28mtype\u001B[39m(objs)\u001B[38;5;241m.\u001B[39m\u001B[38;5;18m__name__\u001B[39m\u001B[38;5;132;01m}\u001B[39;00m\u001B[38;5;124m\"\u001B[39m\u001B[38;5;124m'\u001B[39m\n\u001B[0;32m    420\u001B[0m         )\n\u001B[0;32m    422\u001B[0m     \u001B[38;5;28;01mif\u001B[39;00m join \u001B[38;5;241m==\u001B[39m \u001B[38;5;124m\"\u001B[39m\u001B[38;5;124mouter\u001B[39m\u001B[38;5;124m\"\u001B[39m:\n\u001B[0;32m    423\u001B[0m         \u001B[38;5;28mself\u001B[39m\u001B[38;5;241m.\u001B[39mintersect \u001B[38;5;241m=\u001B[39m \u001B[38;5;28;01mFalse\u001B[39;00m\n",
      "\u001B[1;31mTypeError\u001B[0m: first argument must be an iterable of pandas objects, you passed an object of type \"GeoDataFrame\""
     ]
    }
   ],
   "source": [
    "df_list =[]\n",
    "index_list = []\n",
    "closest_points=[]\n",
    "for gdf_data, intersect_data in [[gdf_N1,intersections_N1],[gdf_N2,intersections_N2]]:\n",
    "    for intersect_index_N1 in intersect_data.index:\n",
    "        intersect_point_N1 =intersect_data[intersect_index_N1]\n",
    "        min_dist =10000\n",
    "        for N1_index in gdf_data.index:\n",
    "            N1_pont =gdf_data.loc[N1_index,\"geometry\"]\n",
    "            dist =distance(gdf_data.loc[N1_index,\"geometry\"],intersect_point_N1)\n",
    "            if  dist< min_dist:\n",
    "                min_dist = dist\n",
    "                closest_point =N1_index\n",
    "        index_list.append(intersect_index_N1)   \n",
    "        closest_points.append(closest_point)\n",
    "        \n",
    "# df_list.append(gdf[gdf.index.isin(closest_points)])\n",
    "df_intersections_main = pd.concat(df_list, axis=0, ignore_index=True)\n",
    "df_intersections_main[\"intersec_to\"]=index_list\n",
    "df_intersections_main[\"type\"] = \"intersection\"\n",
    "\n",
    "\n",
    "df_intersections_main.to_csv(main_folder_path+\"\\\\data\\\\intersections_main.csv\")"
   ],
   "metadata": {
    "collapsed": false,
    "ExecuteTime": {
     "end_time": "2024-03-16T19:55:25.405127Z",
     "start_time": "2024-03-16T19:55:24.637454Z"
    }
   },
   "id": "7916a64b876e68af",
   "execution_count": 324
  },
  {
   "cell_type": "code",
   "outputs": [
    {
     "data": {
      "text/plain": "['N102', 'N104', 'N112', 'N120', 'N129', 'N2', 'N1', 'N105', 'N203', 'N209']"
     },
     "execution_count": 326,
     "metadata": {},
     "output_type": "execute_result"
    }
   ],
   "source": [
    "index_list"
   ],
   "metadata": {
    "collapsed": false,
    "ExecuteTime": {
     "end_time": "2024-03-16T19:56:51.513824Z",
     "start_time": "2024-03-16T19:56:51.504307Z"
    }
   },
   "id": "387b4c5a4bd4f41b",
   "execution_count": 326
  },
  {
   "cell_type": "code",
   "outputs": [
    {
     "data": {
      "text/plain": "[185, 335, 332, 221, 517, 17, 2346, 2365, 2535, 3071]"
     },
     "execution_count": 325,
     "metadata": {},
     "output_type": "execute_result"
    }
   ],
   "source": [
    "closest_points"
   ],
   "metadata": {
    "collapsed": false,
    "ExecuteTime": {
     "end_time": "2024-03-16T19:56:46.223779Z",
     "start_time": "2024-03-16T19:56:46.213044Z"
    }
   },
   "id": "e1e873289ccc176d",
   "execution_count": 325
  },
  {
   "cell_type": "code",
   "outputs": [],
   "source": [
    "df_list = []\n",
    "for road_name in intersections_N1.index:\n",
    "    road_gdf = gdf[gdf[\"road\"]==road_name]\n",
    "    intersect_point_N1 =intersections_N1[road_name]\n",
    "    min_dist=10000\n",
    "    for road_point_index in road_gdf.index:\n",
    "        road_point =road_gdf.loc[road_point_index,\"geometry\"]\n",
    "        dist =distance(intersect_point_N1,road_point)\n",
    "        if  dist< min_dist:\n",
    "            min_dist = dist\n",
    "            closest_point =road_point_index\n",
    "    df_list.append(road_gdf[road_gdf.index == closest_point])\n",
    "    \n",
    "for road_name in intersections_N2.index:\n",
    "    road_gdf = gdf[gdf[\"road\"]==road_name]\n",
    "    intersect_point_N2 =intersections_N2[road_name]\n",
    "    min_dist=10000\n",
    "    for road_point_index in road_gdf.index:\n",
    "        road_point =road_gdf.loc[road_point_index,\"geometry\"]\n",
    "        dist =distance(intersect_point_N2,road_point)\n",
    "        if  dist< min_dist:\n",
    "            min_dist = dist\n",
    "            closest_point =road_point_index\n",
    "    df_list.append(road_gdf[road_gdf.index == closest_point])  \n",
    "    \n",
    "df_intersections_side = pd.concat(df_list, axis=0, ignore_index=True)\n",
    "df_intersections_side[\"type\"]= \"intersection\"\n",
    "\n",
    "df_intersections_side.to_csv(main_folder_path+\"\\\\data\\\\intersections_side.csv\")"
   ],
   "metadata": {
    "collapsed": false,
    "ExecuteTime": {
     "end_time": "2024-03-16T19:24:54.797157Z",
     "start_time": "2024-03-16T19:24:54.622295Z"
    }
   },
   "id": "f804d84f4d500b4f",
   "execution_count": 318
  },
  {
   "cell_type": "code",
   "outputs": [
    {
     "data": {
      "text/plain": "<Axes: >"
     },
     "execution_count": 319,
     "metadata": {},
     "output_type": "execute_result"
    },
    {
     "data": {
      "text/plain": "<Figure size 1000x1000 with 1 Axes>",
      "image/png": "[encoded data removed]"
     },
     "metadata": {},
     "output_type": "display_data"
    }
   ],
   "source": [
    "fig, ax = plt.subplots(1,1,figsize=(10,10))\n",
    "\n",
    "Intersecting_1 =[line for line in gseries if gseries[\"N1\"].intersects(line)]\n",
    "intersections_1 =gseries[\"N1\"].intersection(Intersecting_1)\n",
    "\n",
    "# Intersecting =[line for line in gseries if gseries[\"N1\"].intersects(line)]\n",
    "# intersections =gseries[\"N1\"].intersection(Intersecting)\n",
    "\n",
    "# fig, ax = plt.subplots(1,1,figsize=(10,10))\n",
    "gpd.GeoSeries(Intersecting_1, crs=4326).plot(ax=ax,color=\"purple\")\n",
    "gpd.GeoSeries(intersections_1, crs=4326).plot(ax=ax)\n",
    "gpd.GeoSeries(gseries[\"N1\"],crs=4326).plot(ax=ax,color=\"white\")\n",
    "\n",
    "\n",
    "\n",
    "\n",
    "Intersecting =[line for line in gseries if gseries[\"N2\"].intersects(line)]\n",
    "intersections =gseries[\"N2\"].intersection(Intersecting)\n",
    "\n",
    "\n",
    "gpd.GeoSeries(intersections, crs=4326).plot(ax=ax,color=\"red\")\n",
    "gpd.GeoSeries(Intersecting, crs=4326).plot(ax=ax)\n",
    "gpd.GeoSeries(gseries[\"N2\"],crs=4326).plot(ax=ax,color=\"orange\")\n",
    "\n",
    "gpd.GeoSeries(df_intersections[\"geometry\"], crs=4326).plot(ax=ax,color=\"green\")"
   ],
   "metadata": {
    "collapsed": false,
    "ExecuteTime": {
     "end_time": "2024-03-16T19:24:55.356404Z",
     "start_time": "2024-03-16T19:24:54.798201Z"
    }
   },
   "id": "a4f5ced87cbf8f29",
   "execution_count": 319
  }
 ],
 "metadata": {
  "kernelspec": {
   "name": "gds",
   "language": "python",
   "display_name": "gds"
  },
  "language_info": {
   "codemirror_mode": {
    "name": "ipython",
    "version": 3
   },
   "file_extension": ".py",
   "mimetype": "text/x-python",
   "name": "python",
   "nbconvert_exporter": "python",
   "pygments_lexer": "ipython3",
   "version": "3.8.18"
  }
 },
 "nbformat": 4,
 "nbformat_minor": 5
}
