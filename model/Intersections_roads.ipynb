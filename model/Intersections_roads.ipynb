{
 "cells": [
  {
   "cell_type": "code",
   "execution_count": 8,
   "id": "83572951-689a-4616-a697-06833bd28e8e",
   "metadata": {
    "ExecuteTime": {
     "end_time": "2024-03-20T21:28:22.866303Z",
     "start_time": "2024-03-20T21:28:22.855264Z"
    }
   },
   "outputs": [],
   "source": [
    "import os\n",
    "os.environ['USE_PYGEOS'] = '0'\n",
    "import pandas as pd\n",
    "import geopandas as gpd\n",
    "import matplotlib.pyplot as plt\n",
    "import contextily as cx \n",
    "from shapely.geometry import Point, LineString\n",
    "from shapely import distance\n",
    "import numpy as np\n",
    "from pyproj import Transformer\n",
    "from shapely.geometry import LineString\n",
    "import shapely.ops as sp_ops\n",
    "import warnings\n",
    "warnings.filterwarnings(\"ignore\")\n",
    "import itertools"
   ]
  },
  {
   "cell_type": "code",
   "execution_count": 9,
   "id": "initial_id",
   "metadata": {
    "ExecuteTime": {
     "end_time": "2024-03-20T21:28:23.073483Z",
     "start_time": "2024-03-20T21:28:22.955536Z"
    }
   },
   "outputs": [],
   "source": [
    "main_folder_path =os.path.normpath(os.getcwd() + os.sep + os.pardir)\n",
    "df =pd.read_csv(\"../data/_roads3.csv\")"
   ]
  },
  {
   "cell_type": "markdown",
   "source": [],
   "metadata": {
    "collapsed": false
   },
   "id": "c3b7535fc2b90333"
  },
  {
   "cell_type": "code",
   "outputs": [],
   "source": [
    "gdf = gpd.GeoDataFrame(\n",
    "    df, geometry=gpd.points_from_xy(df.lon, df.lat), crs=\"EPSG:4326\")"
   ],
   "metadata": {
    "collapsed": false,
    "ExecuteTime": {
     "end_time": "2024-03-20T21:28:23.392902Z",
     "start_time": "2024-03-20T21:28:23.077041Z"
    }
   },
   "id": "d97b63f3bdc3a396",
   "execution_count": 10
  },
  {
   "cell_type": "code",
   "outputs": [],
   "source": [
    "from shapely import buffer  "
   ],
   "metadata": {
    "collapsed": false,
    "ExecuteTime": {
     "end_time": "2024-03-20T21:28:23.532448Z",
     "start_time": "2024-03-20T21:28:23.444146Z"
    }
   },
   "id": "c278a3a5df7398ce",
   "execution_count": 11
  },
  {
   "cell_type": "code",
   "outputs": [
    {
     "ename": "NameError",
     "evalue": "name 'transformer' is not defined",
     "output_type": "error",
     "traceback": [
      "\u001B[0;31m---------------------------------------------------------------------------\u001B[0m",
      "\u001B[0;31mNameError\u001B[0m                                 Traceback (most recent call last)",
      "Cell \u001B[0;32mIn[12], line 12\u001B[0m\n\u001B[1;32m     10\u001B[0m \u001B[38;5;28;01mif\u001B[39;00m \u001B[38;5;28mlen\u001B[39m(bridges_road[\u001B[38;5;124m\"\u001B[39m\u001B[38;5;124mgeometry\u001B[39m\u001B[38;5;124m\"\u001B[39m]) \u001B[38;5;241m>\u001B[39m\u001B[38;5;241m=\u001B[39m \u001B[38;5;241m2\u001B[39m:\n\u001B[1;32m     11\u001B[0m         line \u001B[38;5;241m=\u001B[39mLineString(bridges_road[\u001B[38;5;124m\"\u001B[39m\u001B[38;5;124mgeometry\u001B[39m\u001B[38;5;124m\"\u001B[39m])\n\u001B[0;32m---> 12\u001B[0m         line_transformed \u001B[38;5;241m=\u001B[39m sp_ops\u001B[38;5;241m.\u001B[39mtransform(\u001B[43mtransformer\u001B[49m\u001B[38;5;241m.\u001B[39mtransform ,line)\u001B[38;5;241m.\u001B[39mlength\n\u001B[1;32m     13\u001B[0m         \u001B[38;5;28;01mif\u001B[39;00m line_transformed \u001B[38;5;241m>\u001B[39m \u001B[38;5;241m25000\u001B[39m:\n\u001B[1;32m     14\u001B[0m             line_dict[road_name] \u001B[38;5;241m=\u001B[39mbuffer(LineString(bridges_road[\u001B[38;5;124m\"\u001B[39m\u001B[38;5;124mgeometry\u001B[39m\u001B[38;5;124m\"\u001B[39m]),\u001B[38;5;241m0.01\u001B[39m)\n",
      "\u001B[0;31mNameError\u001B[0m: name 'transformer' is not defined"
     ]
    }
   ],
   "source": [
    "road_names =gdf[\"road\"].unique()\n",
    "road_names_N1= [road for road in road_names if road.startswith(\"N\")]\n",
    "# print(road_names)\n",
    "line_dict = {}\n",
    "line_dict_test = {}\n",
    "for road_name in road_names_N1:\n",
    "    # if road_name.startswith('N'):\n",
    "    bridges_road = gdf[gdf[\"road\"] == road_name]\n",
    "        # bridges_road=bridges_road.sort_ values(by=['km'])\n",
    "    if len(bridges_road[\"geometry\"]) >= 2:\n",
    "            line =LineString(bridges_road[\"geometry\"])\n",
    "            line_transformed = sp_ops.transform(transformer.transform ,line).length\n",
    "            if line_transformed > 25000:\n",
    "                line_dict[road_name] =buffer(LineString(bridges_road[\"geometry\"]),0.01)\n",
    "                line_dict_test[road_name] =line\n",
    "\n",
    "gseries =gpd.GeoSeries(line_dict.values(), index=line_dict.keys(), crs=4326)\n",
    "gseries_test =gpd.GeoSeries(line_dict_test.values(), index=line_dict_test.keys(), crs=4326)"
   ],
   "metadata": {
    "collapsed": false,
    "ExecuteTime": {
     "end_time": "2024-03-20T21:28:23.875532Z",
     "start_time": "2024-03-20T21:28:23.545059Z"
    }
   },
   "id": "7d6bad5e0b2da299",
   "execution_count": 12
  },
  {
   "cell_type": "code",
   "outputs": [],
   "source": [
    "cross_index_N1=[]\n",
    "for index in gseries.index:\n",
    "    if gseries[\"N1\"].intersects(gseries[index]):\n",
    "        cross_index_N1.append(index)\n",
    "cross_index_N2=[]\n",
    "for index in gseries.index:\n",
    "    if gseries[\"N2\"].intersects(gseries[index]):\n",
    "        cross_index_N2.append(index)\n",
    "\n",
    "intersecting_N1 =gseries[gseries.index.isin(cross_index_N1)]\n",
    "intersecting_N2 =gseries[gseries.index.isin(cross_index_N2)]\n",
    "\n",
    "intersections_N1 =gseries[\"N1\"].intersection(intersecting_N1).drop(\"N1\")\n",
    "intersections_N2 =gseries[\"N2\"].intersection(intersecting_N2).drop(\"N2\")\n",
    "\n",
    "gdf_N1 =gdf[gdf[\"road\"]==\"N1\"]\n",
    "gdf_N2 =gdf[gdf[\"road\"]==\"N2\"]"
   ],
   "metadata": {
    "collapsed": false,
    "ExecuteTime": {
     "end_time": "2024-03-20T21:28:23.892108Z",
     "start_time": "2024-03-20T21:28:23.891836Z"
    }
   },
   "id": "cca608748e30aa69",
   "execution_count": null
  },
  {
   "cell_type": "code",
   "outputs": [],
   "source": [
    "def process_intersection_data(gdf_data, intersect_data):\n",
    "    df_list = []\n",
    "    index_list = []\n",
    "    closest_points = []\n",
    "    empty_dataframe = gpd.GeoDataFrame(columns=list(gdf.columns)+[\"intersec_to\"],crs=\"EPSG:4326\")\n",
    "\n",
    "    for intersect_index_N1 in intersect_data.index:\n",
    "        intersect_point_N1 = intersect_data[intersect_index_N1]\n",
    "        min_dist = 10000\n",
    "\n",
    "        for N1_index in gdf_data.index:\n",
    "            N1_point = gdf_data.loc[N1_index, \"geometry\"]\n",
    "            dist = distance(N1_point, intersect_point_N1)\n",
    "\n",
    "            if dist < min_dist:\n",
    "                min_dist = dist\n",
    "                closest_point = N1_index\n",
    "        series = gdf_data.loc[closest_point]\n",
    "        series[\"intersec_to\"]=intersect_index_N1    \n",
    "        empty_dataframe.loc[closest_point]=series\n",
    "\n",
    "\n",
    "        index_list.append(intersect_index_N1)\n",
    "        closest_points.append(closest_point)\n",
    "    \n",
    "    \n",
    "    empty_dataframe[\"type\"] = \"intersection\"\n",
    "    \n",
    "    return empty_dataframe\n",
    "\n",
    "# Process intersection data for gdf_N1\n",
    "df_intersections_main_N1 = process_intersection_data(gdf_N1, intersections_N1)\n",
    "\n",
    "# Process intersection data for gdf_N2\n",
    "df_intersections_main_N2 = process_intersection_data(gdf_N2, intersections_N2)\n",
    "df_intersections_main =pd.concat([df_intersections_main_N1,df_intersections_main_N2], axis=0, ignore_index=True)\n",
    "df_intersections_main.to_csv(main_folder_path+\"\\\\data\\\\intersections_main.csv\")"
   ],
   "metadata": {
    "collapsed": false
   },
   "id": "ab65f0bb7653356a",
   "execution_count": null
  },
  {
   "cell_type": "markdown",
   "source": [],
   "metadata": {
    "collapsed": false
   },
   "id": "77c4e53ed1008f71"
  },
  {
   "cell_type": "code",
   "outputs": [],
   "source": [
    "Side_to_N1 = gpd.GeoDataFrame(columns=list(gdf.columns)+[\"intersec_to\"],crs=\"EPSG:4326\")\n",
    "for road_name in intersections_N1.index:\n",
    "    road_gdf = gdf[gdf[\"road\"]==road_name]\n",
    "    intersect_point_N1 =intersections_N1[road_name]\n",
    "    min_dist=10000\n",
    "    for road_point_index in road_gdf.index:\n",
    "        road_point =road_gdf.loc[road_point_index,\"geometry\"]\n",
    "        dist =distance(intersect_point_N1,road_point)\n",
    "        if  dist< min_dist:\n",
    "            min_dist = dist\n",
    "            closest_point =road_point_index\n",
    "    series = road_gdf.loc[closest_point]\n",
    "    series[\"intersec_to\"]=\"N1\"   \n",
    "    Side_to_N1.loc[closest_point]=series\n",
    "\n",
    "\n",
    "Side_to_N2 = gpd.GeoDataFrame(columns=list(gdf.columns)+[\"intersec_to\"],crs=\"EPSG:4326\")\n",
    "for road_name in intersections_N2.index:\n",
    "    road_gdf = gdf[gdf[\"road\"]==road_name]\n",
    "    intersect_point_N2 =intersections_N2[road_name]\n",
    "    min_dist=10000\n",
    "    for road_point_index in road_gdf.index:\n",
    "        road_point =road_gdf.loc[road_point_index,\"geometry\"]\n",
    "        dist =distance(intersect_point_N2,road_point)\n",
    "        if  dist< min_dist:\n",
    "            min_dist = dist\n",
    "            closest_point =road_point_index\n",
    "    series = road_gdf.loc[closest_point]\n",
    "    series[\"intersec_to\"]=\"N2\"   \n",
    "    Side_to_N2.loc[closest_point]=series\n",
    " \n",
    "\n",
    "df_intersections_side = pd.concat([Side_to_N1,Side_to_N2], axis=0, ignore_index=True)\n",
    "df_intersections_side[\"type\"]= \"intersection\"\n",
    "\n",
    "df_intersections_side"
   ],
   "metadata": {
    "collapsed": false
   },
   "id": "f804d84f4d500b4f",
   "execution_count": null
  },
  {
   "cell_type": "code",
   "outputs": [],
   "source": [
    "fig, ax = plt.subplots(1,1,figsize=(10,10))\n",
    "# Process intersection data for gdf_N1\n",
    "df_intersections_main.plot(ax=ax)\n",
    "gseries_test[gseries_test.index.isin(df_intersections_main[\"intersec_to\"])].plot(ax=ax)\n",
    "df_intersections_side.plot(ax=ax,color=\"red\")\n",
    "cx.add_basemap(ax=ax,crs=\"EPSG:4326\")\n",
    "# Process intersection data for gdf_N2\n",
    "# df_intersections_main_N2.plot(ax=ax)"
   ],
   "metadata": {
    "collapsed": false
   },
   "id": "7b0a9efabea17a6e",
   "execution_count": null
  },
  {
   "cell_type": "code",
   "outputs": [],
   "source": [
    "side_roads = gseries[gseries.index.isin(df_intersections_main[\"intersec_to\"])].drop([\"N1\",\"N2\"])\n",
    "combinations = list(itertools.combinations(side_roads.index, 2))\n",
    "\n",
    "#\n",
    "for combiantion in combinations:\n",
    "    road_1 = side_roads.loc[combiantion[0]]\n",
    "    road_2 = side_roads.loc[combiantion[1]]\n",
    "    if road_1.intersects(road_2):\n",
    "        print(\"yes\")\n",
    "        fig,ax = plt.subplots(1,1,figsize=(10,10))\n",
    "        gpd.GeoSeries(road_1,crs=\"4326\").plot(ax=ax)\n",
    "        gpd.GeoSeries(road_2,crs=\"4326\").plot(ax=ax)\n",
    "        cx.add_basemap(ax=ax,crs=\"EPSG:4326\")\n",
    "        pair = combiantion"
   ],
   "metadata": {
    "collapsed": false
   },
   "id": "78693df1bc98e453",
   "execution_count": null
  },
  {
   "cell_type": "code",
   "outputs": [],
   "source": [
    "gdf_N208 = gdf[gdf[\"road\"]==\"N208\"]\n",
    "gdf_N207 = gdf[gdf[\"road\"] == \"N207\"]"
   ],
   "metadata": {
    "collapsed": false
   },
   "id": "4c2a326859c0751d",
   "execution_count": null
  },
  {
   "cell_type": "code",
   "outputs": [],
   "source": [
    "gdf_N208_closest_point = gdf_N208.loc[3512]\n",
    "gdf_N208_closest_point[\"intersec_to\"]=\"N207\""
   ],
   "metadata": {
    "collapsed": false
   },
   "id": "bdf809a3bed70f9d",
   "execution_count": null
  },
  {
   "cell_type": "code",
   "outputs": [],
   "source": [
    "print(1)\n",
    "min_dist = 10000\n",
    "\n",
    "for N1_index in gdf_N207.index:\n",
    "    N1_point = gdf_N207.loc[N1_index, \"geometry\"]\n",
    "    dist = distance(N1_point, gdf_N208_closest_point.loc[\"geometry\"])\n",
    "\n",
    "    if dist < min_dist:\n",
    "        min_dist = dist\n",
    "        closest_point = N1_index\n",
    "\n",
    "gdf_N207_closest_point= gdf_N207.loc[closest_point]\n",
    "gdf_N207_closest_point[\"intersec_to\"]=\"N208\"\n",
    "\n",
    "fig,ax = plt.subplots(1,1,figsize=(10,10))\n",
    "gdf_N208.plot(ax=ax)\n",
    "gdf_N207.plot(ax=ax,color=\"red\")\n",
    "gpd.GeoSeries(gdf_N208_closest_point.loc[\"geometry\"],crs=\"EPSG:4326\").plot(ax=ax,color=\"yellow\")\n",
    "gpd.GeoSeries(gdf_N207_closest_point.loc[\"geometry\"],crs=\"EPSG:4326\").plot(ax=ax,color=\"green\")\n",
    "cx.add_basemap(ax=ax,crs=\"EPSG:4326\")\n"
   ],
   "metadata": {
    "collapsed": false
   },
   "id": "b53da47fd7ad0024",
   "execution_count": null
  },
  {
   "cell_type": "code",
   "outputs": [],
   "source": [
    "df_intersections_all =pd.concat([df_intersections_main,\n",
    "                                 df_intersections_side,\n",
    "                                 gpd.GeoDataFrame(gdf_N207_closest_point).T,\n",
    "                                 gpd.GeoDataFrame(gdf_N208_closest_point).T],axis=0, ignore_index=True)\n",
    "\n",
    "main_folder_path =os.path.normpath(os.getcwd() + os.sep + os.pardir)\n",
    "df_intersections_all.to_csv(main_folder_path+\"\\\\data\\\\intersections.csv\")"
   ],
   "metadata": {
    "collapsed": false
   },
   "id": "5d38ea6546a59d2d",
   "execution_count": null
  }
 ],
 "metadata": {
  "kernelspec": {
   "name": "python3",
   "language": "python",
   "display_name": "Python 3 (ipykernel)"
  },
  "language_info": {
   "codemirror_mode": {
    "name": "ipython",
    "version": 3
   },
   "file_extension": ".py",
   "mimetype": "text/x-python",
   "name": "python",
   "nbconvert_exporter": "python",
   "pygments_lexer": "ipython3",
   "version": "3.8.18"
  }
 },
 "nbformat": 4,
 "nbformat_minor": 5
}
