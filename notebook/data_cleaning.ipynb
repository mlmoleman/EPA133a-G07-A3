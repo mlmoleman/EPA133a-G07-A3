{
 "cells": [
  {
   "cell_type": "code",
   "execution_count": 1,
   "id": "initial_id",
   "metadata": {
    "collapsed": true,
    "ExecuteTime": {
     "end_time": "2024-03-22T17:09:07.699602Z",
     "start_time": "2024-03-22T17:09:07.696374Z"
    }
   },
   "outputs": [],
   "source": [
    "# import libraries\n",
    "import pandas as pd\n",
    "import random"
   ]
  },
  {
   "cell_type": "code",
   "outputs": [],
   "source": [
    "# import data\n",
    "df = pd.read_excel('../data/bridges.xlsx')\n",
    "\n",
    "# slice data information\n",
    "df = df[[\"road\", \"km\", \"type\", \"name\", \"length\", \"condition\", \"lat\", \"lon\", \"zone\"]]\n"
   ],
   "metadata": {
    "collapsed": false,
    "ExecuteTime": {
     "end_time": "2024-03-22T17:11:03.664720Z",
     "start_time": "2024-03-22T17:10:59.170933Z"
    }
   },
   "id": "40567b73d6adf3f9",
   "execution_count": 7
  },
  {
   "cell_type": "code",
   "outputs": [
    {
     "name": "stdout",
     "output_type": "stream",
     "text": [
      "<class 'pandas.core.frame.DataFrame'>\n",
      "RangeIndex: 20415 entries, 0 to 20414\n",
      "Data columns (total 9 columns):\n",
      " #   Column     Non-Null Count  Dtype  \n",
      "---  ------     --------------  -----  \n",
      " 0   road       20415 non-null  object \n",
      " 1   km         20415 non-null  float64\n",
      " 2   type       20415 non-null  object \n",
      " 3   name       20100 non-null  object \n",
      " 4   length     20406 non-null  float64\n",
      " 5   condition  20415 non-null  object \n",
      " 6   lat        20415 non-null  float64\n",
      " 7   lon        20415 non-null  float64\n",
      " 8   zone       20415 non-null  object \n",
      "dtypes: float64(4), object(5)\n",
      "memory usage: 1.4+ MB\n"
     ]
    }
   ],
   "source": [
    "df.info()"
   ],
   "metadata": {
    "collapsed": false,
    "ExecuteTime": {
     "end_time": "2024-03-22T17:11:03.680844Z",
     "start_time": "2024-03-22T17:11:03.666735Z"
    }
   },
   "id": "60dfb67fb00601a2",
   "execution_count": 8
  },
  {
   "cell_type": "code",
   "outputs": [],
   "source": [
    "# HANDLING MISSING VALUES\n",
    "\n",
    "# change NaN values in name with dot i.e. '.'\n",
    "df['name'].fillna('.', inplace=True)\n"
   ],
   "metadata": {
    "collapsed": false,
    "ExecuteTime": {
     "end_time": "2024-03-22T17:10:04.496571Z",
     "start_time": "2024-03-22T17:10:04.490656Z"
    }
   },
   "id": "bbf0e2faff6c7ae8",
   "execution_count": 5
  },
  {
   "cell_type": "code",
   "outputs": [
    {
     "name": "stdout",
     "output_type": "stream",
     "text": [
      "<class 'pandas.core.frame.DataFrame'>\n",
      "RangeIndex: 20415 entries, 0 to 20414\n",
      "Data columns (total 9 columns):\n",
      " #   Column     Non-Null Count  Dtype  \n",
      "---  ------     --------------  -----  \n",
      " 0   road       20415 non-null  object \n",
      " 1   km         20415 non-null  float64\n",
      " 2   type       20415 non-null  object \n",
      " 3   name       20415 non-null  object \n",
      " 4   length     20406 non-null  float64\n",
      " 5   condition  20415 non-null  object \n",
      " 6   lat        20415 non-null  float64\n",
      " 7   lon        20415 non-null  float64\n",
      " 8   zone       20415 non-null  object \n",
      "dtypes: float64(4), object(5)\n",
      "memory usage: 1.4+ MB\n"
     ]
    }
   ],
   "source": [
    "df.info()"
   ],
   "metadata": {
    "collapsed": false,
    "ExecuteTime": {
     "end_time": "2024-03-22T17:10:19.082056Z",
     "start_time": "2024-03-22T17:10:19.064304Z"
    }
   },
   "id": "a56e0783419c2b20",
   "execution_count": 6
  },
  {
   "cell_type": "code",
   "outputs": [],
   "source": [
    "\n",
    "# check NaN values in other columns, only length has missing values\n",
    "df.isnull().sum(axis=0)\n",
    "\n",
    "# assign new dataframe to missing values\n",
    "missing = df[df.length.isnull()]"
   ],
   "metadata": {
    "collapsed": false,
    "ExecuteTime": {
     "end_time": "2024-03-22T17:09:19.591465Z",
     "start_time": "2024-03-22T17:09:13.813128Z"
    }
   },
   "id": "de703f5b1eaa4f93",
   "execution_count": 2
  },
  {
   "cell_type": "code",
   "outputs": [
    {
     "data": {
      "text/plain": "        road      km                   type                    name  length  \\\n526       N2  64.333      RCC Girder Bridge       Narayanpur Bridge     NaN   \n1049      N5  27.452  Steel Beam & RCC Slab       Dhulipitha Bridge     NaN   \n3136    R312  10.992      RCC Girder Bridge       Razabari Bridge-1     NaN   \n6362   Z1216   7.450       PC Girder Bridge            Kadda Bridge     NaN   \n8560   Z4101   1.340      RCC Girder Bridge        Banabazar Bridge     NaN   \n9433   Z5063  10.755       PC Girder Bridge    Purbo Kushtia bridge     NaN   \n17426  Z1089   2.433             RCC Bridge  Uddabganj Bazar Bridge     NaN   \n17596  Z1430  19.910      RCC Girder Bridge   Boyoskaler pul Bridge     NaN   \n18278  Z5063   9.215  Truss with Steel Deck    Saturia Bazar Bridge     NaN   \n\n      condition        lat        lon        zone  \n526           A  24.054769  90.921984       Dhaka  \n1049          A  23.907829  90.208758       Dhaka  \n3136          A  24.107651  90.503342       Dhaka  \n6362          A  23.879863  91.199317     Comilla  \n8560          A  24.921777  89.961370  Mymensingh  \n9433          A  23.982234  90.037573       Dhaka  \n17426         C  23.646071  90.615167       Dhaka  \n17596         C  23.166014  90.961397     Comilla  \n18278         C  23.969187  90.036868       Dhaka  ",
      "text/html": "<div>\n<style scoped>\n    .dataframe tbody tr th:only-of-type {\n        vertical-align: middle;\n    }\n\n    .dataframe tbody tr th {\n        vertical-align: top;\n    }\n\n    .dataframe thead th {\n        text-align: right;\n    }\n</style>\n<table border=\"1\" class=\"dataframe\">\n  <thead>\n    <tr style=\"text-align: right;\">\n      <th></th>\n      <th>road</th>\n      <th>km</th>\n      <th>type</th>\n      <th>name</th>\n      <th>length</th>\n      <th>condition</th>\n      <th>lat</th>\n      <th>lon</th>\n      <th>zone</th>\n    </tr>\n  </thead>\n  <tbody>\n    <tr>\n      <th>526</th>\n      <td>N2</td>\n      <td>64.333</td>\n      <td>RCC Girder Bridge</td>\n      <td>Narayanpur Bridge</td>\n      <td>NaN</td>\n      <td>A</td>\n      <td>24.054769</td>\n      <td>90.921984</td>\n      <td>Dhaka</td>\n    </tr>\n    <tr>\n      <th>1049</th>\n      <td>N5</td>\n      <td>27.452</td>\n      <td>Steel Beam &amp; RCC Slab</td>\n      <td>Dhulipitha Bridge</td>\n      <td>NaN</td>\n      <td>A</td>\n      <td>23.907829</td>\n      <td>90.208758</td>\n      <td>Dhaka</td>\n    </tr>\n    <tr>\n      <th>3136</th>\n      <td>R312</td>\n      <td>10.992</td>\n      <td>RCC Girder Bridge</td>\n      <td>Razabari Bridge-1</td>\n      <td>NaN</td>\n      <td>A</td>\n      <td>24.107651</td>\n      <td>90.503342</td>\n      <td>Dhaka</td>\n    </tr>\n    <tr>\n      <th>6362</th>\n      <td>Z1216</td>\n      <td>7.450</td>\n      <td>PC Girder Bridge</td>\n      <td>Kadda Bridge</td>\n      <td>NaN</td>\n      <td>A</td>\n      <td>23.879863</td>\n      <td>91.199317</td>\n      <td>Comilla</td>\n    </tr>\n    <tr>\n      <th>8560</th>\n      <td>Z4101</td>\n      <td>1.340</td>\n      <td>RCC Girder Bridge</td>\n      <td>Banabazar Bridge</td>\n      <td>NaN</td>\n      <td>A</td>\n      <td>24.921777</td>\n      <td>89.961370</td>\n      <td>Mymensingh</td>\n    </tr>\n    <tr>\n      <th>9433</th>\n      <td>Z5063</td>\n      <td>10.755</td>\n      <td>PC Girder Bridge</td>\n      <td>Purbo Kushtia bridge</td>\n      <td>NaN</td>\n      <td>A</td>\n      <td>23.982234</td>\n      <td>90.037573</td>\n      <td>Dhaka</td>\n    </tr>\n    <tr>\n      <th>17426</th>\n      <td>Z1089</td>\n      <td>2.433</td>\n      <td>RCC Bridge</td>\n      <td>Uddabganj Bazar Bridge</td>\n      <td>NaN</td>\n      <td>C</td>\n      <td>23.646071</td>\n      <td>90.615167</td>\n      <td>Dhaka</td>\n    </tr>\n    <tr>\n      <th>17596</th>\n      <td>Z1430</td>\n      <td>19.910</td>\n      <td>RCC Girder Bridge</td>\n      <td>Boyoskaler pul Bridge</td>\n      <td>NaN</td>\n      <td>C</td>\n      <td>23.166014</td>\n      <td>90.961397</td>\n      <td>Comilla</td>\n    </tr>\n    <tr>\n      <th>18278</th>\n      <td>Z5063</td>\n      <td>9.215</td>\n      <td>Truss with Steel Deck</td>\n      <td>Saturia Bazar Bridge</td>\n      <td>NaN</td>\n      <td>C</td>\n      <td>23.969187</td>\n      <td>90.036868</td>\n      <td>Dhaka</td>\n    </tr>\n  </tbody>\n</table>\n</div>"
     },
     "execution_count": 4,
     "metadata": {},
     "output_type": "execute_result"
    }
   ],
   "source": [
    "missing"
   ],
   "metadata": {
    "collapsed": false,
    "ExecuteTime": {
     "end_time": "2024-03-22T17:09:26.159294Z",
     "start_time": "2024-03-22T17:09:26.136556Z"
    }
   },
   "id": "b35de17164c4a946",
   "execution_count": 4
  },
  {
   "cell_type": "code",
   "outputs": [],
   "source": [
    "# for some missing values, missing values can be retrieved from bridges with same chainage, \n",
    "# get length of these bridges and replace missing value with this value. \n",
    "for index in missing.index:\n",
    "    if df.loc[index, 'km'] == df.loc[index - 1, 'km']:\n",
    "        # assign length of bridge with same chainage to variable new_length\n",
    "        new_length = df.loc[index - 1, 'length']\n",
    "        # replace missing value with new length\n",
    "        df.loc[index, 'length'] = new_length\n",
    "\n",
    "    elif df.loc[index, 'km'] == df.loc[index + 1, 'km']:\n",
    "        new_length = df.loc[index + 1, 'length']\n",
    "        df.loc[index, 'length'] = new_length\n",
    "\n",
    "# for the left-over missing values, replace length with average length of bridges for specific road\n",
    "for index in missing.index:\n",
    "    road_name = df.loc[index, 'road']\n",
    "    road_subset = df[df['road'] == road_name]\n",
    "    average_length = road_subset.loc[:, 'length'].mean()\n",
    "    df.loc[index, 'length'] = average_length"
   ],
   "metadata": {
    "collapsed": false,
    "ExecuteTime": {
     "end_time": "2024-03-22T17:12:18.803546Z",
     "start_time": "2024-03-22T17:12:18.744156Z"
    }
   },
   "id": "ae01404a28b9caae",
   "execution_count": 9
  },
  {
   "cell_type": "code",
   "outputs": [],
   "source": [
    "\n",
    "# HANDLING DUPLICATES\n",
    "\n",
    "# change type of column first\n",
    "df['name'] = df['name'].astype(str)\n",
    "\n",
    "# replace modifications of right/left in bridge names\n",
    "df['name'] = df['name'].apply(lambda x: x.replace(')', ''))\n",
    "df['name'] = df['name'].apply(lambda x: x.replace('RIGHT', 'R'))\n",
    "df['name'] = df['name'].apply(lambda x: x.replace('LEFT', 'L'))\n",
    "df['name'] = df['name'].apply(lambda x: x.replace('Right', 'R'))\n",
    "df['name'] = df['name'].apply(lambda x: x.replace('Left', 'L'))\n",
    "\n",
    "# strip the trailing whitespaces \n",
    "df['name'] = df['name'].apply(lambda x: x.strip())\n",
    "\n",
    "# change condition from letters to numbers in order to compare them\n",
    "df['conditionNum'] = 0\n",
    "df.loc[df['condition'] == 'A', 'conditionNum'] = 1\n",
    "df.loc[df['condition'] == 'B', 'conditionNum'] = 2\n",
    "df.loc[df['condition'] == 'C', 'conditionNum'] = 3\n",
    "df.loc[df['condition'] == 'D', 'conditionNum'] = 4"
   ],
   "metadata": {
    "collapsed": false,
    "ExecuteTime": {
     "end_time": "2024-03-22T17:12:20.559700Z",
     "start_time": "2024-03-22T17:12:20.511324Z"
    }
   },
   "id": "d75d1a908c8c8277",
   "execution_count": 10
  },
  {
   "cell_type": "code",
   "outputs": [
    {
     "name": "stdout",
     "output_type": "stream",
     "text": [
      "road N1 duplicates: 159\n",
      "road N2 duplicates: 96\n",
      "road N5 duplicates: 106\n",
      "road N8 duplicates: 57\n"
     ]
    }
   ],
   "source": [
    "# retrieve all roads in dataset\n",
    "roads = df['road'].unique().tolist()\n",
    "\n",
    "for road in roads:\n",
    "    # define dataframe for duplicates\n",
    "    road_subset = df[df['road'] == road]\n",
    "    # subset based on latitude and longitude\n",
    "    duplicates = road_subset[road_subset.duplicated(subset=['lat', 'lon'])]\n",
    "    # sort by chainage\n",
    "    duplicates = duplicates.sort_values(by=['km'])\n",
    "    # retrieve number of duplicates\n",
    "    duplicates_value = len(duplicates.index)\n",
    "    if duplicates_value > 50: \n",
    "        # print duplicates per road\n",
    "        print(\"road\", road, \"duplicates:\", duplicates_value)"
   ],
   "metadata": {
    "collapsed": false,
    "ExecuteTime": {
     "end_time": "2024-03-22T17:17:59.766931Z",
     "start_time": "2024-03-22T17:17:57.730285Z"
    }
   },
   "id": "3f907088d98d2a5a",
   "execution_count": 15
  },
  {
   "cell_type": "code",
   "outputs": [],
   "source": [],
   "metadata": {
    "collapsed": false
   },
   "id": "3226b065cb25644f"
  }
 ],
 "metadata": {
  "kernelspec": {
   "display_name": "Python 3",
   "language": "python",
   "name": "python3"
  },
  "language_info": {
   "codemirror_mode": {
    "name": "ipython",
    "version": 2
   },
   "file_extension": ".py",
   "mimetype": "text/x-python",
   "name": "python",
   "nbconvert_exporter": "python",
   "pygments_lexer": "ipython2",
   "version": "2.7.6"
  }
 },
 "nbformat": 4,
 "nbformat_minor": 5
}
