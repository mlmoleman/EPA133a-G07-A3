{
 "cells": [
  {
   "cell_type": "code",
   "execution_count": 1,
   "id": "b20021e6",
   "metadata": {
    "tags": []
   },
   "outputs": [],
   "source": [
    "# import libraries\n",
    "import pandas as pd\n",
    "import networkx as nx\n",
    "import matplotlib.pyplot as plt\n",
    "import warnings\n",
    "warnings.simplefilter(action='ignore', category=FutureWarning)"
   ]
  },
  {
   "cell_type": "code",
   "execution_count": 2,
   "id": "78e61eea-7363-45b3-876e-80101f562234",
   "metadata": {
    "tags": []
   },
   "outputs": [],
   "source": [
    "def merge_bridges_intersections(): \n",
    "    \"\"\"\n",
    "    returns a CSV formatted file which includes both bridges and intersections\n",
    "    \"\"\"\n",
    "    # MODIFY BRIDGE DATA\n",
    "    \n",
    "    # import bridge data\n",
    "    df_bridges = pd.read_csv('../data/bridges_cleaned.csv')\n",
    "    # drop old column named index\n",
    "    df_bridges = df_bridges.drop([\"index\", \"Unnamed: 0\"], axis='columns')\n",
    "    # add intersection to column\n",
    "    df_bridges['intersec_to'] = None\n",
    "    # reposition columns\n",
    "    df_bridges = df_bridges[['road', 'km', 'type', 'model_type', 'name', 'length', 'condition', 'lat', 'lon', 'intersec_to']]\n",
    "\n",
    "    # MODIFY INTERSECTION DATA\n",
    "    \n",
    "    # import intersections data\n",
    "    df_intersections = pd.read_csv('../data/intersections_main.csv')\n",
    "    # change chainage into km\n",
    "    df_intersections.rename({'chainage': 'km'}, axis=1, inplace=True)\n",
    "    # create model_type\n",
    "    df_intersections['model_type'] = 'intersection'\n",
    "    # create length\n",
    "    df_intersections['length'] = None\n",
    "    # align intersection columns with bridge colum\n",
    "    # create condition\n",
    "    df_intersections['condition'] = None\n",
    "    df_intersections = df_intersections[['road', 'km', 'type', 'model_type', 'name', 'length', 'condition', 'lat', 'lon', 'intersec_to']]\n",
    "    \n",
    "    # CHECK IF INTERSECTED ROAD IS LONGER THAN 25 KM\n",
    "    \n",
    "    # get all intersected roads\n",
    "    intersections = df_intersections['intersec_to'].unique().tolist()\n",
    "    # remove nan if present\n",
    "    intersections = [x for x in intersections if str(x) != 'nan']\n",
    "    # for each road which is an intersection of N1 or N2\n",
    "    for intersection in intersections: \n",
    "        # subset all data points for the road\n",
    "        road_subset = df_bridges[df_bridges['road'] == intersection]\n",
    "        # get last chainage\n",
    "        road_length = road_subset.iloc[-1]['km']\n",
    "        if road_length < 25: \n",
    "            intersections.remove(intersection)\n",
    "    # keep all roads which are still in intersections list, so longer than 25 km\n",
    "    df_intersections = df_intersections[df_intersections['intersec_to'].isin(intersections)] \n",
    "    \n",
    "    # SELECT ROADS THAT INTERSECT IN BRIDGE DATA\n",
    "    \n",
    "    # get all intersected roads\n",
    "    intersections = df_intersections['intersec_to'].unique().tolist()\n",
    "    # remove nan if present\n",
    "    intersections = [x for x in intersections if str(x) != 'nan']\n",
    "    # keep all bridges in roads that intersect\n",
    "    df_bridges = df_bridges[df_bridges['road'].isin(intersections)]\n",
    "    roads = df_bridges['road'].unique().tolist()\n",
    "    # MERGE BRIDGES WITH INTERSECTIONS\n",
    "    \n",
    "    # get the dataframes which needs to be merged\n",
    "    frames = [df_bridges, df_intersections]\n",
    "    # merge dataframes into df\n",
    "    df = pd.concat(frames)\n",
    "    \n",
    "    # FORMAT\n",
    "    \n",
    "    # sort roads dataframe based on road name and chainage\n",
    "    df = df.sort_values(by=['road', 'km'])\n",
    "    # reset index\n",
    "    df = df.reset_index(drop=True) \n",
    "    # save merged dataframe as CSV file\n",
    "    df.to_csv('../data/bridges_cleaned_intersected_long.csv')"
   ]
  },
  {
   "cell_type": "code",
   "execution_count": 3,
   "id": "a19f6195-5e9b-4cbd-adf6-47e640336380",
   "metadata": {
    "tags": []
   },
   "outputs": [],
   "source": [
    "merge_bridges_intersections()"
   ]
  },
  {
   "cell_type": "code",
   "execution_count": 24,
   "id": "2eb53a6e",
   "metadata": {
    "tags": []
   },
   "outputs": [],
   "source": [
    "def bridge_network():\n",
    "    \"\"\"\n",
    "    returns a multi directed graph which includes bridges and intersections between roads\n",
    "    \"\"\"\n",
    "    # import data\n",
    "    df = pd.read_csv('../data/bridges_cleaned_intersected_long.csv')\n",
    "    # remove unnecessary columns\n",
    "    df.drop(columns=['Unnamed: 0'], inplace = True)\n",
    "    # sort roads dataframe based on road name and chainage\n",
    "    df = df.sort_values(by=['road', 'km'])\n",
    "    # reset index\n",
    "    df = df.reset_index(drop=False)\n",
    "    # retrieve all roads in dataset\n",
    "    roads = df['road'].unique().tolist()\n",
    "    G= nx.MultiDiGraph()\n",
    "    # for each road in list roads\n",
    "    for road in roads: \n",
    "        # if equal to N1\n",
    "        if road == 'N1': \n",
    "            # subset all data points for the road\n",
    "            road_subset = df[df['road'] == road]\n",
    "            for index, row in road_subset.iterrows():\n",
    "                G.add_node(row['index'], pos = (row['lat'], row['lon']), len = row['length'], typ = row['model_type'], intersec = row['intersec_to'])\n",
    "            # retrieve all edges between bridges for one road\n",
    "            edges = [(index, index+1) for index, row in road_subset.iterrows()]\n",
    "            # remove last one, which is out of bound\n",
    "            edges.pop()\n",
    "            # reverse subset\n",
    "            road_subset_reversed = road_subset.iloc[::-1]\n",
    "            # get all reversed indexes and add to list of edges\n",
    "            edges += [(index, index-1) for index, row in road_subset_reversed.iterrows()]\n",
    "            # remove last one, which is out of bound\n",
    "            edges.pop()\n",
    "            # add all edges \n",
    "            G.add_edges_from(edges)   \n",
    "            \n",
    "    # get model type of all nodes\n",
    "    typ = nx.get_node_attributes(G, 'typ')\n",
    "    # get road which is intersected with N1\n",
    "    intersec_to = nx.get_node_attributes(G, 'intersec')\n",
    "    # get all key, value pairs in dictionaries\n",
    "    for key_typ, value_typ in typ.items(): \n",
    "        # if value equals intersection as model type \n",
    "        if value_typ == 'intersection': \n",
    "            intersected_road = intersec_to[key_typ]\n",
    "            # subset data based on road name\n",
    "            road_subset = df[df['road'] == intersected_road]\n",
    "            # retrieve sourcesink of side road which became intersection\n",
    "            old_index = road_subset.iloc[0]['index']\n",
    "            # replace with intersection node on main road\n",
    "            df['index'].replace(old_index, key_typ)\n",
    "            # skip first row, which is old sourcesink of road (now became intersection)\n",
    "            road_subset = road_subset.iloc[1:,:]\n",
    "            # for each row in subset data\n",
    "            for index, row in road_subset.iterrows():\n",
    "                # add node based on index\n",
    "                G.add_node(row['index'], pos = (row['lat'], row['lon']), len = row['length'], typ = row['model_type'], intersec = row['intersec_to'])\n",
    "            # retrieve all edges between bridges for one road\n",
    "            edges = [(index, index+1) for index, row in road_subset.iterrows()]  \n",
    "            # remove last one, which is out of bound\n",
    "            edges.pop()\n",
    "            # reverse subset\n",
    "            road_subset_reversed = road_subset.iloc[::-1]\n",
    "            # get all reversed indexes and add to list of edges\n",
    "            edges += [(index, index-1) for index, row in road_subset_reversed.iterrows()]\n",
    "            # remove last one, which is out of bound\n",
    "            edges.pop()\n",
    "            # add intersection edge between main and side road\n",
    "            intersected_edge = [(key_typ, road_subset.iloc[0]['index'])]\n",
    "            # to edges list\n",
    "            edges += intersected_edge\n",
    "            # also get reversed edge\n",
    "            rev_intersected_edge = [(road_subset.iloc[0]['index'], key_typ)]\n",
    "            # and add to edges list\n",
    "            edges += rev_intersected_edge\n",
    "            # add all edges  \n",
    "            G.add_edges_from(edges)\n",
    "    \n",
    "    for u,v,k in G.edges: \n",
    "        # obtain distance between nodes\n",
    "        distance = abs((df.iloc[u, df.columns.get_indexer(['km'])].values) - \n",
    "                       (df.iloc[v, df.columns.get_indexer(['km'])].values))\n",
    "        # from kilometers to meters\n",
    "        distance = distance * 1000 \n",
    "        # assign distance as weight to edge\n",
    "        G[u][v][k]['weight'] = distance\n",
    "    \n",
    "    # return network\n",
    "    return G"
   ]
  },
  {
   "cell_type": "code",
   "execution_count": 25,
   "id": "2547fa95-c75f-42c1-8311-4b2149c12494",
   "metadata": {
    "tags": []
   },
   "outputs": [
    {
     "data": {
      "text/plain": [
       "<networkx.classes.multidigraph.MultiDiGraph at 0x144b23950>"
      ]
     },
     "execution_count": 25,
     "metadata": {},
     "output_type": "execute_result"
    }
   ],
   "source": [
    " bridge_network()"
   ]
  },
  {
   "cell_type": "code",
   "execution_count": 26,
   "id": "c57406e1",
   "metadata": {
    "tags": []
   },
   "outputs": [],
   "source": [
    "def visualize_graph(): \n",
    "    # call network\n",
    "    network = bridge_network() \n",
    "    # get position of nodes\n",
    "    pos = nx.get_node_attributes(network, 'pos')\n",
    "    # draw network based on position\n",
    "    # nx.draw(network, pos, with_labels=True, connectionstyle='arc3, rad = 0.1')\n",
    "    nx.draw(network, pos)\n",
    "    # show plot\n",
    "    plt.show()"
   ]
  },
  {
   "cell_type": "code",
   "execution_count": 28,
   "id": "2c70f459-9e8f-4066-bf09-5a6a902b56ca",
   "metadata": {
    "ExecuteTime": {
     "end_time": "2024-03-15T19:49:19.629603Z",
     "start_time": "2024-03-15T19:49:19.620078Z"
    },
    "tags": []
   },
   "outputs": [],
   "source": [
    "def get_shortest_path(origin, destination):\n",
    "    \"\"\"\n",
    "    gives the shortest path between an origin and destination, \n",
    "    based on bridge network defined using NetworkX library, \n",
    "    and adds tihis path to path_ids_dict\n",
    "    \"\"\"\n",
    "\n",
    "    # call network\n",
    "    #TODO make network a model attribute?\n",
    "    network = bridge_network()\n",
    "    #first, check if there already is a shortest path:\n",
    "    # TODO add shortest_path_dict to model attributes\n",
    "    if key in self.shortest_path_dict.keys():\n",
    "        return self.shortest_path_dict[source, sink]\n",
    "    else:\n",
    "        # compute shortest path between origin and destination based on distance (which is weight)\n",
    "        shortest_path = nx.shortest_path(network, origin, destination, weight='weight')\n",
    "        # format shortest path in dictionary structure\n",
    "        self.shortest_path_dict[origin, destination] = shortest_path\n",
    "        return self.shortest_path_dict[source, sink]\n",
    "        # test to see shortest path in dictionary structure\n",
    "        #return self.shortest_path_dict"
   ]
  }
 ],
 "metadata": {
  "kernelspec": {
   "display_name": "Python 3 (ipykernel)",
   "language": "python",
   "name": "python3"
  },
  "language_info": {
   "codemirror_mode": {
    "name": "ipython",
    "version": 3
   },
   "file_extension": ".py",
   "mimetype": "text/x-python",
   "name": "python",
   "nbconvert_exporter": "python",
   "pygments_lexer": "ipython3",
   "version": "3.11.5"
  }
 },
 "nbformat": 4,
 "nbformat_minor": 5
}
