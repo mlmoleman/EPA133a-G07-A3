{
 "cells": [
  {
   "cell_type": "code",
   "execution_count": 1,
   "id": "c241151f-fbe4-4003-b395-f08ea832a164",
   "metadata": {
    "tags": [],
    "ExecuteTime": {
     "end_time": "2024-03-20T21:32:45.590303Z",
     "start_time": "2024-03-20T21:32:44.466596Z"
    }
   },
   "outputs": [],
   "source": [
    "import pandas as pd\n",
    "import networkx as nx\n",
    "\n",
    "def bridge_network():\n",
    "    \"\"\"\n",
    "    returns a multi directed graph which includes bridges and intersections between roads\n",
    "    \"\"\"\n",
    "    # import data\n",
    "    df = pd.read_csv('../data/bridges_intersected_linked.csv')\n",
    "    # drop old id\n",
    "    df = df.drop(\"id\", axis='columns')\n",
    "    # sort roads dataframe based on road name and chainage\n",
    "    df = df.sort_values(by=['road', 'km'])\n",
    "    # reset index\n",
    "    df = df.reset_index(drop = False)\n",
    "    # set new index as ID\n",
    "    df.rename(columns = {'index':'id'}, inplace = True)\n",
    "    # retrieve all roads in dataset\n",
    "    roads = df['road'].unique().tolist()\n",
    "    # initialize graph\n",
    "    G= nx.DiGraph()\n",
    "    # for each road in list roads\n",
    "    for road in roads: \n",
    "        road_subset = df[df['road'] == road]\n",
    "        for index, row in df.iterrows(): \n",
    "            G.add_node(row['id'], pos = (row['lat'], row['lon']), len = row['length'], \n",
    "                       typ = row['model_type'], road = row['road'], intersec = row['intersec_to'])\n",
    "        # retrieve all edges between bridges for one road\n",
    "        edges = [(index, index+1) for index, row in road_subset.iterrows()]\n",
    "        # remove last one, which is out of bound\n",
    "        edges.pop()\n",
    "        # reverse subset\n",
    "        road_subset_reversed = road_subset.iloc[::-1]\n",
    "        # get all reversed indexes and add to list of edges\n",
    "        edges += [(index, index-1) for index, row in road_subset_reversed.iterrows()]\n",
    "        # remove last one, which is out of bound\n",
    "        edges.pop()\n",
    "        # add all edges \n",
    "        G.add_edges_from(edges)  \n",
    "    \n",
    "    # get model type of all nodes\n",
    "    typ = nx.get_node_attributes(G, 'typ')\n",
    "    # get road which is intersected with N1 or N2\n",
    "    intersec_to = nx.get_node_attributes(G, 'intersec')\n",
    "    # get current roads\n",
    "    road = nx.get_node_attributes(G, 'road')\n",
    "    # get all key, value pairs in dictionaries\n",
    "    for key_typ, value_typ in typ.items(): \n",
    "        # if value equals intersection as model type \n",
    "        if value_typ == 'intersection': \n",
    "            # current road\n",
    "            current_road = road[key_typ]    \n",
    "            # get road name which intersects N1 or N2\n",
    "            intersected_road = intersec_to[key_typ]\n",
    "            # get subset of intersected road\n",
    "            subset_intersected_road = df[df['road'] == intersected_road]\n",
    "            # get all rows which are intersections\n",
    "            intersections = subset_intersected_road[subset_intersected_road['model_type'] == 'intersection']\n",
    "            # select the row for which intersection to equals current road\n",
    "            row = intersections[intersections['intersec_to'] == current_road]\n",
    "            # retrieve ID\n",
    "            row_index = row.index[0]\n",
    "            # assign intersected edge to variable\n",
    "            if (key_typ, row_index) not in G.edges: \n",
    "                # add intersected edge\n",
    "                G.add_edge(key_typ, row_index, weight = 0)\n",
    " \n",
    "    for u,v in G.edges: \n",
    "        if abs(v - u) == 1: \n",
    "            # obtain distance between nodes\n",
    "            distance = abs((df.iloc[u, df.columns.get_indexer(['km'])].values) - \n",
    "                           (df.iloc[v, df.columns.get_indexer(['km'])].values))\n",
    "            # from kilometers to meters\n",
    "            distance = distance * 1000 \n",
    "            # assign distance as weight to edge\n",
    "            G[u][v]['weight'] = distance\n",
    "\n",
    "    # return network\n",
    "    return G"
   ]
  },
  {
   "cell_type": "code",
   "execution_count": 2,
   "id": "a4092bf6-9035-4c2a-9da0-5c93ea810d6b",
   "metadata": {
    "tags": [],
    "ExecuteTime": {
     "end_time": "2024-03-20T21:32:51.805174Z",
     "start_time": "2024-03-20T21:32:45.595133Z"
    }
   },
   "outputs": [
    {
     "data": {
      "text/plain": "<networkx.classes.digraph.DiGraph at 0x1118d9590>"
     },
     "execution_count": 2,
     "metadata": {},
     "output_type": "execute_result"
    }
   ],
   "source": [
    "bridge_network()"
   ]
  },
  {
   "cell_type": "code",
   "execution_count": 2,
   "id": "6f3917e1-b776-4de8-90ad-c9faa1ec964e",
   "metadata": {
    "ExecuteTime": {
     "end_time": "2024-03-20T21:32:51.809108Z",
     "start_time": "2024-03-20T21:32:51.806970Z"
    }
   },
   "outputs": [],
   "source": []
  }
 ],
 "metadata": {
  "kernelspec": {
   "display_name": "Python 3 (ipykernel)",
   "language": "python",
   "name": "python3"
  },
  "language_info": {
   "codemirror_mode": {
    "name": "ipython",
    "version": 3
   },
   "file_extension": ".py",
   "mimetype": "text/x-python",
   "name": "python",
   "nbconvert_exporter": "python",
   "pygments_lexer": "ipython3",
   "version": "3.11.5"
  }
 },
 "nbformat": 4,
 "nbformat_minor": 5
}
