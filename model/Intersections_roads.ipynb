{
 "cells": [
  {
   "cell_type": "code",
   "execution_count": 436,
   "id": "83572951-689a-4616-a697-06833bd28e8e",
   "metadata": {
    "ExecuteTime": {
     "end_time": "2024-03-20T15:30:16.656594Z",
     "start_time": "2024-03-20T15:30:16.586169Z"
    }
   },
   "outputs": [],
   "source": [
    "import os\n",
    "os.environ['USE_PYGEOS'] = '0'\n",
    "import pandas as pd\n",
    "import geopandas as gpd\n",
    "import matplotlib.pyplot as plt\n",
    "import contextily as cx \n",
    "from shapely.geometry import Point, LineString\n",
    "from shapely import distance\n",
    "import numpy as np\n",
    "from pyproj import Transformer\n",
    "from shapely.geometry import LineString\n",
    "import shapely.ops as sp_ops"
   ]
  },
  {
   "cell_type": "code",
   "execution_count": 437,
   "id": "initial_id",
   "metadata": {
    "ExecuteTime": {
     "end_time": "2024-03-20T15:30:16.844889Z",
     "start_time": "2024-03-20T15:30:16.660961Z"
    }
   },
   "outputs": [],
   "source": [
    "main_folder_path =os.path.normpath(os.getcwd() + os.sep + os.pardir)\n",
    "df =pd.read_csv(main_folder_path+\"\\\\data\\\\_roads3.csv\")"
   ]
  },
  {
   "cell_type": "markdown",
   "source": [],
   "metadata": {
    "collapsed": false
   },
   "id": "c3b7535fc2b90333"
  },
  {
   "cell_type": "code",
   "outputs": [],
   "source": [
    "gdf = gpd.GeoDataFrame(\n",
    "    df, geometry=gpd.points_from_xy(df.lon, df.lat), crs=\"EPSG:4326\")"
   ],
   "metadata": {
    "collapsed": false,
    "ExecuteTime": {
     "end_time": "2024-03-20T15:30:17.826081Z",
     "start_time": "2024-03-20T15:30:16.847759Z"
    }
   },
   "id": "d97b63f3bdc3a396",
   "execution_count": 438
  },
  {
   "cell_type": "code",
   "outputs": [],
   "source": [
    "from shapely import buffer  "
   ],
   "metadata": {
    "collapsed": false,
    "ExecuteTime": {
     "end_time": "2024-03-20T15:30:17.837944Z",
     "start_time": "2024-03-20T15:30:17.829785Z"
    }
   },
   "id": "c278a3a5df7398ce",
   "execution_count": 439
  },
  {
   "cell_type": "code",
   "outputs": [],
   "source": [
    "road_names =gdf[\"road\"].unique()\n",
    "road_names_N1= [road for road in road_names if road.startswith(\"N\")]\n",
    "# print(road_names)\n",
    "line_dict = {}\n",
    "line_dict_test = {}\n",
    "for road_name in road_names_N1:\n",
    "    # if road_name.startswith('N'):\n",
    "    bridges_road = gdf[gdf[\"road\"] == road_name]\n",
    "        # bridges_road=bridges_road.sort_ values(by=['km'])\n",
    "    if len(bridges_road[\"geometry\"]) >= 2:\n",
    "            line =LineString(bridges_road[\"geometry\"])\n",
    "            line_transformed = sp_ops.transform(transformer.transform ,line).length\n",
    "            if line_transformed > 25000:\n",
    "                line_dict[road_name] =buffer(LineString(bridges_road[\"geometry\"]),0.008)\n",
    "                line_dict_test[road_name] =line\n",
    "\n",
    "gseries =gpd.GeoSeries(line_dict.values(), index=line_dict.keys(), crs=4326)\n",
    "gseries_test =gpd.GeoSeries(line_dict_test.values(), index=line_dict_test.keys(), crs=4326)"
   ],
   "metadata": {
    "collapsed": false,
    "ExecuteTime": {
     "end_time": "2024-03-20T15:30:19.304598Z",
     "start_time": "2024-03-20T15:30:17.843506Z"
    }
   },
   "id": "7d6bad5e0b2da299",
   "execution_count": 440
  },
  {
   "cell_type": "code",
   "outputs": [],
   "source": [
    "# for index in gseries_test[gseries_test.index.isin(index_list)].index:\n",
    "#     x=gseries_test[index]\n",
    "#     # print(index)\n",
    "#     line_transformed = sp_ops.transform(transformer.transform ,x).length\n",
    "#     if line_transformed > 25000:\n",
    "#         print(index,line_transformed)"
   ],
   "metadata": {
    "collapsed": false,
    "ExecuteTime": {
     "end_time": "2024-03-20T15:30:19.314404Z",
     "start_time": "2024-03-20T15:30:19.307284Z"
    }
   },
   "id": "442ff3cb91d1cd51",
   "execution_count": 441
  },
  {
   "cell_type": "code",
   "outputs": [],
   "source": [
    "# print(len(set(cross_index_N1)),len(cross_index_N1))\n",
    "# print(len(set(cross_index_N2)),len(cross_index_N2))"
   ],
   "metadata": {
    "collapsed": false,
    "ExecuteTime": {
     "end_time": "2024-03-20T15:30:19.324542Z",
     "start_time": "2024-03-20T15:30:19.316975Z"
    }
   },
   "id": "49081aef18475388",
   "execution_count": 442
  },
  {
   "cell_type": "code",
   "outputs": [],
   "source": [
    "cross_index_N1=[]\n",
    "for index in gseries.index:\n",
    "    if gseries[\"N1\"].intersects(gseries[index]):\n",
    "        cross_index_N1.append(index)\n",
    "cross_index_N2=[]\n",
    "for index in gseries.index:\n",
    "    if gseries[\"N2\"].intersects(gseries[index]):\n",
    "        cross_index_N2.append(index)\n",
    "\n",
    "intersecting_N1 =gseries[gseries.index.isin(cross_index_N1)]\n",
    "intersecting_N2 =gseries[gseries.index.isin(cross_index_N2)]\n",
    "\n",
    "intersections_N1 =gseries[\"N1\"].intersection(intersecting_N1).drop(\"N1\")\n",
    "intersections_N2 =gseries[\"N2\"].intersection(intersecting_N2).drop(\"N2\")\n",
    "\n",
    "gdf_N1 =gdf[gdf[\"road\"]==\"N1\"]\n",
    "gdf_N2 =gdf[gdf[\"road\"]==\"N2\"]"
   ],
   "metadata": {
    "collapsed": false,
    "ExecuteTime": {
     "end_time": "2024-03-20T15:30:19.512324Z",
     "start_time": "2024-03-20T15:30:19.326870Z"
    }
   },
   "id": "cca608748e30aa69",
   "execution_count": 443
  },
  {
   "cell_type": "code",
   "outputs": [],
   "source": [],
   "metadata": {
    "collapsed": false,
    "ExecuteTime": {
     "end_time": "2024-03-20T15:30:19.524350Z",
     "start_time": "2024-03-20T15:30:19.517148Z"
    }
   },
   "id": "a459c1e5d1afbee0",
   "execution_count": 443
  },
  {
   "cell_type": "code",
   "outputs": [
    {
     "name": "stdout",
     "output_type": "stream",
     "text": [
      "None\n"
     ]
    }
   ],
   "source": [
    "print(list(gdf.columns).append(\"intersec_to\"))"
   ],
   "metadata": {
    "collapsed": false,
    "ExecuteTime": {
     "end_time": "2024-03-20T15:30:19.534406Z",
     "start_time": "2024-03-20T15:30:19.526827Z"
    }
   },
   "id": "bb2266a8b28c99e2",
   "execution_count": 444
  },
  {
   "cell_type": "code",
   "outputs": [
    {
     "data": {
      "text/plain": "['road',\n 'chainage',\n 'lrp',\n 'lat',\n 'lon',\n 'gap',\n 'type',\n 'name',\n 'geometry',\n 'intersec_to']"
     },
     "execution_count": 445,
     "metadata": {},
     "output_type": "execute_result"
    }
   ],
   "source": [
    "d=list(gdf.columns)+[\"intersec_to\"]\n",
    "d"
   ],
   "metadata": {
    "collapsed": false,
    "ExecuteTime": {
     "end_time": "2024-03-20T15:30:19.551210Z",
     "start_time": "2024-03-20T15:30:19.537967Z"
    }
   },
   "id": "eaa568005d5bff6d",
   "execution_count": 445
  },
  {
   "cell_type": "code",
   "outputs": [
    {
     "name": "stdout",
     "output_type": "stream",
     "text": [
      "None\n"
     ]
    }
   ],
   "source": [
    "print(d.append(1))\n"
   ],
   "metadata": {
    "collapsed": false,
    "ExecuteTime": {
     "end_time": "2024-03-20T15:30:19.566165Z",
     "start_time": "2024-03-20T15:30:19.555506Z"
    }
   },
   "id": "81069a8fbf97c344",
   "execution_count": 446
  },
  {
   "cell_type": "code",
   "outputs": [
    {
     "data": {
      "text/plain": "Index(['road', 'chainage', 'lrp', 'lat', 'lon', 'gap', 'type', 'name',\n       'geometry', 'intersec_to'],\n      dtype='object')"
     },
     "execution_count": 447,
     "metadata": {},
     "output_type": "execute_result"
    }
   ],
   "source": [
    "empty_dataframe = pd.DataFrame(columns=list(gdf.columns)+[\"intersec_to\"])\n",
    "empty_dataframe.columns"
   ],
   "metadata": {
    "collapsed": false,
    "ExecuteTime": {
     "end_time": "2024-03-20T15:30:19.589498Z",
     "start_time": "2024-03-20T15:30:19.569930Z"
    }
   },
   "id": "83d7af36beb989ee",
   "execution_count": 447
  },
  {
   "cell_type": "code",
   "outputs": [],
   "source": [
    "import warnings\n",
    "warnings.filterwarnings(\"ignore\")\n",
    "def process_intersection_data(gdf_data, intersect_data):\n",
    "    df_list = []\n",
    "    index_list = []\n",
    "    closest_points = []\n",
    "    empty_dataframe = gpd.GeoDataFrame(columns=list(gdf.columns)+[\"intersec_to\"],crs=\"EPSG:4326\")\n",
    "\n",
    "    for intersect_index_N1 in intersect_data.index:\n",
    "        intersect_point_N1 = intersect_data[intersect_index_N1]\n",
    "        min_dist = 10000\n",
    "\n",
    "        for N1_index in gdf_data.index:\n",
    "            N1_point = gdf_data.loc[N1_index, \"geometry\"]\n",
    "            dist = distance(N1_point, intersect_point_N1)\n",
    "\n",
    "            if dist < min_dist:\n",
    "                min_dist = dist\n",
    "                closest_point = N1_index\n",
    "        series = gdf_data.loc[closest_point]\n",
    "        series[\"intersec_to\"]=intersect_index_N1    \n",
    "        empty_dataframe.loc[closest_point]=series\n",
    "        series =gdf_data.loc[closest_point]\n",
    "        # print(series)\n",
    "        # series[\"intersec_to\"]=intersect_index_N1\n",
    "        index_list.append(intersect_index_N1)\n",
    "        closest_points.append(closest_point)\n",
    "    \n",
    "    \n",
    "    # df_intersections_main = gdf_data[gdf_data.index.isin(closest_points)]\n",
    "    # df_intersections_main[\"intersec_to\"] = index_list\n",
    "    # df_intersections_main[\"type\"] = \"intersection\"\n",
    "    \n",
    "    # df_intersections_main = gdf_data[gdf_data.index.isin(closest_points)]\n",
    "    # empty_dataframe[\"intersec_to\"] = index_list\n",
    "    empty_dataframe[\"type\"] = \"intersection\"\n",
    "    \n",
    "    return empty_dataframe\n",
    "\n",
    "# Process intersection data for gdf_N1\n",
    "df_intersections_main_N1 = process_intersection_data(gdf_N1, intersections_N1)\n",
    "\n",
    "# Process intersection data for gdf_N2\n",
    "df_intersections_main_N2 = process_intersection_data(gdf_N2, intersections_N2)\n",
    "df_intersections_main =pd.concat([df_intersections_main_N1,df_intersections_main_N2], axis=0, ignore_index=True)\n",
    "df_intersections_main.to_csv(main_folder_path+\"\\\\data\\\\intersections_main.csv\")"
   ],
   "metadata": {
    "collapsed": false,
    "ExecuteTime": {
     "end_time": "2024-03-20T15:30:20.380729Z",
     "start_time": "2024-03-20T15:30:19.593494Z"
    }
   },
   "id": "ab65f0bb7653356a",
   "execution_count": 448
  },
  {
   "cell_type": "code",
   "outputs": [
    {
     "data": {
      "text/plain": "   road chainage      lrp        lat        lon  gap          type  \\\n0    N1   81.801  LRP083a  23.478944  91.117722  NaN  intersection   \n1    N1   144.67  LRP147b  23.014083  91.375972  NaN  intersection   \n2    N1   11.313  LRP011b  23.692277  90.541055  NaN  intersection   \n3    N1      8.0   LRP008  23.702056  90.515722  NaN  intersection   \n4    N1      0.0     LRPS  23.706028  90.443333  NaN  intersection   \n5    N2      0.0     LRPS  23.705917  90.521444  NaN  intersection   \n6    N2   85.098  LRP085b  24.049694  91.107639  NaN  intersection   \n7    N2   11.111  LRP011a  23.784805  90.565056  NaN  intersection   \n8    N2  115.916   LRP117  24.146639  91.343055  NaN  intersection   \n9    N2  145.322  LRP146a  24.290805  91.505528  NaN  intersection   \n10   N2  226.808  LRP227a  24.874027  91.867749  NaN  intersection   \n\n                                                 name  \\\n0                                         Box culvert   \n1                                         Box culvert   \n2                                         Box culvert   \n3                                     Km post missing   \n4   Start of Road  after Jatrabari Flyover infront...   \n5                      Road Start from N1 at Katchpur   \n6                                         Box culvert   \n7                                     R202 to Rupganj   \n8                                       Sylhet 115 km   \n9                                         Box culvert   \n10                                        Box culvert   \n\n                     geometry intersec_to  \n0   POINT (91.11772 23.47894)        N102  \n1   POINT (91.37597 23.01408)        N104  \n2   POINT (90.54106 23.69228)        N105  \n3   POINT (90.51572 23.70206)          N2  \n4   POINT (90.44333 23.70603)          N8  \n5   POINT (90.52144 23.70592)          N1  \n6   POINT (91.10764 24.04969)        N102  \n7   POINT (90.56506 23.78481)        N105  \n8   POINT (91.34306 24.14664)        N204  \n9   POINT (91.50553 24.29081)        N207  \n10  POINT (91.86775 24.87403)        N208  ",
      "text/html": "<div>\n<style scoped>\n    .dataframe tbody tr th:only-of-type {\n        vertical-align: middle;\n    }\n\n    .dataframe tbody tr th {\n        vertical-align: top;\n    }\n\n    .dataframe thead th {\n        text-align: right;\n    }\n</style>\n<table border=\"1\" class=\"dataframe\">\n  <thead>\n    <tr style=\"text-align: right;\">\n      <th></th>\n      <th>road</th>\n      <th>chainage</th>\n      <th>lrp</th>\n      <th>lat</th>\n      <th>lon</th>\n      <th>gap</th>\n      <th>type</th>\n      <th>name</th>\n      <th>geometry</th>\n      <th>intersec_to</th>\n    </tr>\n  </thead>\n  <tbody>\n    <tr>\n      <th>0</th>\n      <td>N1</td>\n      <td>81.801</td>\n      <td>LRP083a</td>\n      <td>23.478944</td>\n      <td>91.117722</td>\n      <td>NaN</td>\n      <td>intersection</td>\n      <td>Box culvert</td>\n      <td>POINT (91.11772 23.47894)</td>\n      <td>N102</td>\n    </tr>\n    <tr>\n      <th>1</th>\n      <td>N1</td>\n      <td>144.67</td>\n      <td>LRP147b</td>\n      <td>23.014083</td>\n      <td>91.375972</td>\n      <td>NaN</td>\n      <td>intersection</td>\n      <td>Box culvert</td>\n      <td>POINT (91.37597 23.01408)</td>\n      <td>N104</td>\n    </tr>\n    <tr>\n      <th>2</th>\n      <td>N1</td>\n      <td>11.313</td>\n      <td>LRP011b</td>\n      <td>23.692277</td>\n      <td>90.541055</td>\n      <td>NaN</td>\n      <td>intersection</td>\n      <td>Box culvert</td>\n      <td>POINT (90.54106 23.69228)</td>\n      <td>N105</td>\n    </tr>\n    <tr>\n      <th>3</th>\n      <td>N1</td>\n      <td>8.0</td>\n      <td>LRP008</td>\n      <td>23.702056</td>\n      <td>90.515722</td>\n      <td>NaN</td>\n      <td>intersection</td>\n      <td>Km post missing</td>\n      <td>POINT (90.51572 23.70206)</td>\n      <td>N2</td>\n    </tr>\n    <tr>\n      <th>4</th>\n      <td>N1</td>\n      <td>0.0</td>\n      <td>LRPS</td>\n      <td>23.706028</td>\n      <td>90.443333</td>\n      <td>NaN</td>\n      <td>intersection</td>\n      <td>Start of Road  after Jatrabari Flyover infront...</td>\n      <td>POINT (90.44333 23.70603)</td>\n      <td>N8</td>\n    </tr>\n    <tr>\n      <th>5</th>\n      <td>N2</td>\n      <td>0.0</td>\n      <td>LRPS</td>\n      <td>23.705917</td>\n      <td>90.521444</td>\n      <td>NaN</td>\n      <td>intersection</td>\n      <td>Road Start from N1 at Katchpur</td>\n      <td>POINT (90.52144 23.70592)</td>\n      <td>N1</td>\n    </tr>\n    <tr>\n      <th>6</th>\n      <td>N2</td>\n      <td>85.098</td>\n      <td>LRP085b</td>\n      <td>24.049694</td>\n      <td>91.107639</td>\n      <td>NaN</td>\n      <td>intersection</td>\n      <td>Box culvert</td>\n      <td>POINT (91.10764 24.04969)</td>\n      <td>N102</td>\n    </tr>\n    <tr>\n      <th>7</th>\n      <td>N2</td>\n      <td>11.111</td>\n      <td>LRP011a</td>\n      <td>23.784805</td>\n      <td>90.565056</td>\n      <td>NaN</td>\n      <td>intersection</td>\n      <td>R202 to Rupganj</td>\n      <td>POINT (90.56506 23.78481)</td>\n      <td>N105</td>\n    </tr>\n    <tr>\n      <th>8</th>\n      <td>N2</td>\n      <td>115.916</td>\n      <td>LRP117</td>\n      <td>24.146639</td>\n      <td>91.343055</td>\n      <td>NaN</td>\n      <td>intersection</td>\n      <td>Sylhet 115 km</td>\n      <td>POINT (91.34306 24.14664)</td>\n      <td>N204</td>\n    </tr>\n    <tr>\n      <th>9</th>\n      <td>N2</td>\n      <td>145.322</td>\n      <td>LRP146a</td>\n      <td>24.290805</td>\n      <td>91.505528</td>\n      <td>NaN</td>\n      <td>intersection</td>\n      <td>Box culvert</td>\n      <td>POINT (91.50553 24.29081)</td>\n      <td>N207</td>\n    </tr>\n    <tr>\n      <th>10</th>\n      <td>N2</td>\n      <td>226.808</td>\n      <td>LRP227a</td>\n      <td>24.874027</td>\n      <td>91.867749</td>\n      <td>NaN</td>\n      <td>intersection</td>\n      <td>Box culvert</td>\n      <td>POINT (91.86775 24.87403)</td>\n      <td>N208</td>\n    </tr>\n  </tbody>\n</table>\n</div>"
     },
     "execution_count": 449,
     "metadata": {},
     "output_type": "execute_result"
    }
   ],
   "source": [
    "df_intersections_main"
   ],
   "metadata": {
    "collapsed": false,
    "ExecuteTime": {
     "end_time": "2024-03-20T15:30:20.415711Z",
     "start_time": "2024-03-20T15:30:20.383452Z"
    }
   },
   "id": "c5074add16e7dae6",
   "execution_count": 449
  },
  {
   "cell_type": "markdown",
   "source": [],
   "metadata": {
    "collapsed": false
   },
   "id": "77c4e53ed1008f71"
  },
  {
   "cell_type": "code",
   "outputs": [],
   "source": [
    "# df_list =[]\n",
    "# df_list_test =[]\n",
    "# index_list = []\n",
    "# closest_points=[]\n",
    "# for gdf_data, intersect_data in [[gdf_N1,intersections_N1],[gdf_N2,intersections_N2]]:\n",
    "#     for intersect_index_N1 in intersect_data.index:\n",
    "#         intersect_point_N1 =intersect_data[intersect_index_N1]\n",
    "#         min_dist =10000    \n",
    "#         for N1_index in gdf_data.index:\n",
    "#             N1_pont =gdf_data.loc[N1_index,\"geometry\"]\n",
    "#             dist =distance(gdf_data.loc[N1_index,\"geometry\"],intersect_point_N1)\n",
    "#             if  dist< min_dist:\n",
    "#                 min_dist = dist\n",
    "#                 closest_point =N1_index\n",
    "#         # print(intersect_index_N1,closest_point)\n",
    "#         # print(closest_points)\n",
    "#         index_list.append(intersect_index_N1)   \n",
    "#         closest_points.append(closest_point)\n",
    "#         \n",
    "# # print(closest_points,index_list)\n",
    "# df_intersections_main=gdf[gdf.index.isin(closest_points)]\n",
    "# print(len(gdf[gdf.index.isin(closest_points)]))\n",
    "# # df_list.append(gdf[gdf.index.isin(closest_points)])\n",
    "# # df_intersections_main = pd.concat(df_list, axis=0, ignore_index=True)\n",
    "# df_intersections_main[\"intersec_to\"]=index_list\n",
    "# df_intersections_main[\"type\"] = \"intersection\"\n",
    "# \n",
    "# \n",
    "# df_intersections_main.to_csv(main_folder_path+\"\\\\data\\\\intersections_main.csv\")"
   ],
   "metadata": {
    "collapsed": false,
    "ExecuteTime": {
     "end_time": "2024-03-20T15:30:20.429523Z",
     "start_time": "2024-03-20T15:30:20.417936Z"
    }
   },
   "id": "7916a64b876e68af",
   "execution_count": 450
  },
  {
   "cell_type": "code",
   "outputs": [],
   "source": [],
   "metadata": {
    "collapsed": false,
    "ExecuteTime": {
     "end_time": "2024-03-20T15:30:20.439487Z",
     "start_time": "2024-03-20T15:30:20.433131Z"
    }
   },
   "id": "67ed5629db333b23",
   "execution_count": 450
  },
  {
   "cell_type": "code",
   "outputs": [],
   "source": [
    "transformer =Transformer.from_crs('EPSG:4326', 'EPSG:3857', always_xy=True)"
   ],
   "metadata": {
    "collapsed": false,
    "ExecuteTime": {
     "end_time": "2024-03-20T15:30:20.464659Z",
     "start_time": "2024-03-20T15:30:20.442224Z"
    }
   },
   "id": "583079d5a8679d69",
   "execution_count": 451
  },
  {
   "cell_type": "code",
   "outputs": [
    {
     "name": "stdout",
     "output_type": "stream",
     "text": [
      "N1 490795.85069027985\n",
      "N102 93488.49358724339\n",
      "N104 53566.569719558305\n",
      "N105 52537.755017801646\n",
      "N2 312421.2499806181\n",
      "N204 36868.5294876288\n",
      "N207 72087.86336654497\n",
      "N208 62573.57089209663\n"
     ]
    }
   ],
   "source": [
    "for index in gseries_test[gseries_test.index.isin(index_list)].index:\n",
    "    x=gseries_test[index]\n",
    "    # print(index)\n",
    "    line_transformed = sp_ops.transform(transformer.transform ,x).length\n",
    "    if line_transformed > 25000:\n",
    "        print(index,line_transformed)"
   ],
   "metadata": {
    "collapsed": false,
    "ExecuteTime": {
     "end_time": "2024-03-20T15:30:20.496927Z",
     "start_time": "2024-03-20T15:30:20.468228Z"
    }
   },
   "id": "e1185039f06ba7cb",
   "execution_count": 452
  },
  {
   "cell_type": "code",
   "outputs": [
    {
     "data": {
      "text/plain": "[183,\n 335,\n 26,\n 613,\n 698,\n 926,\n 965,\n 331,\n 160,\n 188,\n 371,\n 462,\n 514,\n 17,\n 2346,\n 2574,\n 2364,\n 2533,\n 2661,\n 3061,\n 3079,\n 2768,\n 3069,\n 3069,\n 3100]"
     },
     "execution_count": 453,
     "metadata": {},
     "output_type": "execute_result"
    }
   ],
   "source": [
    "closest_points"
   ],
   "metadata": {
    "collapsed": false,
    "ExecuteTime": {
     "end_time": "2024-03-20T15:30:20.512250Z",
     "start_time": "2024-03-20T15:30:20.500682Z"
    }
   },
   "id": "e1e873289ccc176d",
   "execution_count": 453
  },
  {
   "cell_type": "code",
   "outputs": [],
   "source": [
    "df_list = []\n",
    "for road_name in intersections_N1.index:\n",
    "    road_gdf = gdf[gdf[\"road\"]==road_name]\n",
    "    intersect_point_N1 =intersections_N1[road_name]\n",
    "    min_dist=10000\n",
    "    for road_point_index in road_gdf.index:\n",
    "        road_point =road_gdf.loc[road_point_index,\"geometry\"]\n",
    "        dist =distance(intersect_point_N1,road_point)\n",
    "        if  dist< min_dist:\n",
    "            min_dist = dist\n",
    "            closest_point =road_point_index\n",
    "    df_list.append(road_gdf[road_gdf.index == closest_point])\n",
    "    \n",
    "for road_name in intersections_N2.index:\n",
    "    road_gdf = gdf[gdf[\"road\"]==road_name]\n",
    "    intersect_point_N2 =intersections_N2[road_name]\n",
    "    min_dist=10000\n",
    "    for road_point_index in road_gdf.index:\n",
    "        road_point =road_gdf.loc[road_point_index,\"geometry\"]\n",
    "        dist =distance(intersect_point_N2,road_point)\n",
    "        if  dist< min_dist:\n",
    "            min_dist = dist\n",
    "            closest_point =road_point_index\n",
    "    df_list.append(road_gdf[road_gdf.index == closest_point])  \n",
    "    \n",
    "df_intersections_side = pd.concat(df_list, axis=0, ignore_index=True)\n",
    "df_intersections_side[\"type\"]= \"intersection\"\n",
    "\n",
    "df_intersections_side.to_csv(main_folder_path+\"\\\\data\\\\intersections_side.csv\")"
   ],
   "metadata": {
    "collapsed": false,
    "ExecuteTime": {
     "end_time": "2024-03-20T15:30:20.975458Z",
     "start_time": "2024-03-20T15:30:20.515879Z"
    }
   },
   "id": "f804d84f4d500b4f",
   "execution_count": 454
  },
  {
   "cell_type": "code",
   "outputs": [
    {
     "data": {
      "text/plain": "1"
     },
     "execution_count": 455,
     "metadata": {},
     "output_type": "execute_result"
    }
   ],
   "source": [
    "1"
   ],
   "metadata": {
    "collapsed": false,
    "ExecuteTime": {
     "end_time": "2024-03-20T15:30:20.990948Z",
     "start_time": "2024-03-20T15:30:20.977800Z"
    }
   },
   "id": "8ad776a71298c776",
   "execution_count": 455
  },
  {
   "cell_type": "code",
   "outputs": [
    {
     "data": {
      "text/plain": "array([ True,  True,  True,  True, False,  True,  True,  True,  True,\n       False, False, False, False, False, False, False, False, False,\n       False, False, False, False, False, False,  True, False, False,\n       False, False])"
     },
     "execution_count": 456,
     "metadata": {},
     "output_type": "execute_result"
    }
   ],
   "source": [
    "gseries.index.isin(df_intersections_main[\"intersec_to\"])"
   ],
   "metadata": {
    "collapsed": false,
    "ExecuteTime": {
     "end_time": "2024-03-20T15:30:21.010651Z",
     "start_time": "2024-03-20T15:30:20.994695Z"
    }
   },
   "id": "ee3024b04e06f343",
   "execution_count": 456
  },
  {
   "cell_type": "code",
   "outputs": [
    {
     "data": {
      "text/plain": "<Axes: >"
     },
     "execution_count": 457,
     "metadata": {},
     "output_type": "execute_result"
    },
    {
     "data": {
      "text/plain": "<Figure size 1000x1000 with 1 Axes>",
      "image/png": "[encoded data removed]"
     },
     "metadata": {},
     "output_type": "display_data"
    }
   ],
   "source": [
    "fig, ax = plt.subplots(1,1,figsize=(10,10))\n",
    "# Process intersection data for gdf_N1\n",
    "df_intersections_main.plot(ax=ax)\n",
    "gseries_test[gseries_test.index.isin(df_intersections_main[\"intersec_to\"])].plot(ax=ax)\n",
    "df_intersections_side.plot(ax=ax,color=\"red\")\n",
    "# Process intersection data for gdf_N2\n",
    "# df_intersections_main_N2.plot(ax=ax)"
   ],
   "metadata": {
    "collapsed": false,
    "ExecuteTime": {
     "end_time": "2024-03-20T15:30:21.544525Z",
     "start_time": "2024-03-20T15:30:21.020766Z"
    }
   },
   "id": "7b0a9efabea17a6e",
   "execution_count": 457
  },
  {
   "cell_type": "code",
   "outputs": [
    {
     "data": {
      "text/plain": "N1      POLYGON ((90.44629 23.69599, 90.44012 23.69870...\nN102    POLYGON ((90.96284 23.63596, 90.96289 23.63782...\nN104    POLYGON ((91.08896 22.87589, 91.08884 22.87712...\nN105    POLYGON ((90.36568 23.97301, 90.36167 23.97667...\nN106    POLYGON ((91.81123 22.41655, 91.81124 22.41675...\nN2      POLYGON ((90.51481 23.70123, 90.51387 23.70237...\nN204    POLYGON ((91.34329 24.14068, 91.34280 24.14088...\nN207    POLYGON ((91.50691 24.30252, 91.50706 24.30264...\nN208    POLYGON ((91.76645 24.49106, 91.76603 24.49185...\nN3      POLYGON ((90.36662 24.35055, 90.36660 24.35127...\nN4      POLYGON ((89.91622 24.31830, 89.91632 24.31976...\nN401    POLYGON ((90.02438 24.61516, 90.02445 24.61527...\nN402    POLYGON ((90.16356 25.05129, 90.16413 25.05372...\nN5      POLYGON ((88.34855 26.50978, 88.34815 26.51080...\nN502    POLYGON ((88.99407 24.42428, 88.99640 24.43067...\nN506    POLYGON ((89.25805 25.72287, 89.25805 25.72288...\nN507    POLYGON ((89.09522 24.30552, 89.09816 24.30768...\nN509    POLYGON ((88.97512 26.36771, 88.97493 26.36777...\nN6      POLYGON ((88.13367 24.84142, 88.13378 24.84299...\nN7      POLYGON ((89.12789 23.41827, 89.12974 23.42438...\nN702    POLYGON ((89.20150 23.16703, 89.20165 23.16859...\nN704    POLYGON ((89.00571 24.03549, 89.00538 24.03605...\nN706    POLYGON ((88.91863 23.04012, 88.91834 23.04001...\nN709    POLYGON ((89.47457 22.89936, 89.47456 22.90087...\nN8      POLYGON ((89.98038 23.37938, 89.97993 23.37955...\nN804    POLYGON ((89.81377 23.58213, 89.81372 23.58209...\nN805    POLYGON ((89.63463 22.73294, 89.63330 22.73309...\nN806    POLYGON ((89.22599 23.16822, 89.22968 23.16787...\nN809    POLYGON ((90.35901 22.69324, 90.36118 22.69406...\ndtype: geometry"
     },
     "execution_count": 458,
     "metadata": {},
     "output_type": "execute_result"
    }
   ],
   "source": [
    "gseries"
   ],
   "metadata": {
    "collapsed": false,
    "ExecuteTime": {
     "end_time": "2024-03-20T15:30:21.675889Z",
     "start_time": "2024-03-20T15:30:21.547002Z"
    }
   },
   "id": "107f60668990a684",
   "execution_count": 458
  },
  {
   "cell_type": "code",
   "outputs": [
    {
     "data": {
      "text/plain": "<Axes: >"
     },
     "execution_count": 459,
     "metadata": {},
     "output_type": "execute_result"
    },
    {
     "data": {
      "text/plain": "<Figure size 1000x1000 with 1 Axes>",
      "image/png": "[encoded data removed]"
     },
     "metadata": {},
     "output_type": "display_data"
    }
   ],
   "source": [
    "\n",
    "\n",
    "fig, ax = plt.subplots(1,1,figsize=(10,10))\n",
    "\n",
    "Intersecting_1 =[line for line in gseries_test if gseries_test[\"N1\"].intersects(line)]\n",
    "intersections_1 =gseries_test[\"N1\"].intersection(Intersecting_1)\n",
    "\n",
    "# Intersecting =[line for line in gseries if gseries[\"N1\"].intersects(line)]\n",
    "# intersections =gseries[\"N1\"].intersection(Intersecting)\n",
    "\n",
    "# fig, ax = plt.subplots(1,1,figsize=(10,10))\n",
    "gpd.GeoSeries(Intersecting_1, crs=4326).plot(ax=ax,color=\"purple\")\n",
    "gpd.GeoSeries(intersections_1, crs=4326).plot(ax=ax)\n",
    "gpd.GeoSeries(gseries_test [\"N1\"],crs=4326).plot(ax=ax,color=\"white\")\n",
    "\n",
    "\n",
    "\n",
    "\n",
    "Intersecting =[line for line in gseries_test if gseries_test[\"N2\"].intersects(line)]\n",
    "intersections =gseries_test[\"N2\"].intersection(Intersecting)\n",
    "\n",
    "\n",
    "gpd.GeoSeries(intersections, crs=4326).plot(ax=ax,color=\"red\")\n",
    "gpd.GeoSeries(Intersecting, crs=4326).plot(ax=ax)\n",
    "gpd.GeoSeries(gseries_test[\"N2\"],crs=4326).plot(ax=ax,color=\"orange\")\n",
    "\n",
    "# gpd.GeoSeries(df_intersections[\"geometry\"], crs=4326).plot(ax=ax,color=\"green\")"
   ],
   "metadata": {
    "collapsed": false,
    "ExecuteTime": {
     "end_time": "2024-03-20T15:30:22.720383Z",
     "start_time": "2024-03-20T15:30:21.678191Z"
    }
   },
   "id": "a4f5ced87cbf8f29",
   "execution_count": 459
  }
 ],
 "metadata": {
  "kernelspec": {
   "name": "gds",
   "language": "python",
   "display_name": "gds"
  },
  "language_info": {
   "codemirror_mode": {
    "name": "ipython",
    "version": 3
   },
   "file_extension": ".py",
   "mimetype": "text/x-python",
   "name": "python",
   "nbconvert_exporter": "python",
   "pygments_lexer": "ipython3",
   "version": "3.8.18"
  }
 },
 "nbformat": 4,
 "nbformat_minor": 5
}
