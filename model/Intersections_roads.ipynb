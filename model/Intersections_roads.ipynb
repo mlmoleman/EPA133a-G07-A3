{
 "cells": [
  {
   "cell_type": "code",
   "execution_count": null,
   "id": "83572951-689a-4616-a697-06833bd28e8e",
   "metadata": {},
   "outputs": [],
   "source": [
    "import os\n",
    "os.environ['USE_PYGEOS'] = '0'\n",
    "import pandas as pd\n",
    "import geopandas as gpd\n",
    "import matplotlib.pyplot as plt\n",
    "import contextily as cx \n",
    "from shapely import distance\n",
    "from pyproj import Transformer\n",
    "from shapely.geometry import LineString\n",
    "import shapely.ops as sp_ops\n",
    "import warnings\n",
    "warnings.filterwarnings(\"ignore\")\n",
    "import itertools\n",
    "from shapely import buffer  "
   ]
  },
  {
   "cell_type": "code",
   "execution_count": null,
   "id": "initial_id",
   "metadata": {},
   "outputs": [],
   "source": [
    "main_folder_path =os.path.normpath(os.getcwd() + os.sep + os.pardir)\n",
    "df =pd.read_csv(main_folder_path+\"\\\\data\\\\_roads3.csv\")"
   ]
  },
  {
   "cell_type": "code",
   "outputs": [],
   "source": [
    "gdf = gpd.GeoDataFrame(\n",
    "    df, geometry=gpd.points_from_xy(df.lon, df.lat), crs=\"EPSG:4326\")"
   ],
   "metadata": {
    "collapsed": false
   },
   "id": "d97b63f3bdc3a396",
   "execution_count": null
  },
  {
   "cell_type": "code",
   "outputs": [],
   "source": [
    "road_names =gdf[\"road\"].unique()\n",
    "road_names_N1= [road for road in road_names if road.startswith(\"N\")]\n",
    "transformer = Transformer.from_crs('EPSG:4326', 'EPSG:3857', always_xy=True)\n",
    "line_dict = {}\n",
    "line_dict_test = {}\n",
    "for road_name in road_names_N1:\n",
    "    bridges_road = gdf[gdf[\"road\"] == road_name]\n",
    "    if len(bridges_road[\"geometry\"]) >= 2:\n",
    "            line =LineString(bridges_road[\"geometry\"])\n",
    "            line_transformed = sp_ops.transform(transformer.transform ,line).length\n",
    "            if line_transformed > 25000:\n",
    "                line_dict[road_name] =buffer(LineString(bridges_road[\"geometry\"]),0.01)\n",
    "                line_dict_test[road_name] =line\n",
    "\n",
    "gseries =gpd.GeoSeries(line_dict.values(), index=line_dict.keys(), crs=4326)\n",
    "gseries_test =gpd.GeoSeries(line_dict_test.values(), index=line_dict_test.keys(), crs=4326)"
   ],
   "metadata": {
    "collapsed": false
   },
   "id": "7d6bad5e0b2da299",
   "execution_count": null
  },
  {
   "cell_type": "code",
   "outputs": [],
   "source": [
    "cross_index_N1=[]\n",
    "for index in gseries.index:\n",
    "    if gseries[\"N1\"].intersects(gseries[index]):\n",
    "        cross_index_N1.append(index)\n",
    "cross_index_N2=[]\n",
    "for index in gseries.index:\n",
    "    if gseries[\"N2\"].intersects(gseries[index]):\n",
    "        cross_index_N2.append(index)\n",
    "\n",
    "intersecting_N1 =gseries[gseries.index.isin(cross_index_N1)]\n",
    "intersecting_N2 =gseries[gseries.index.isin(cross_index_N2)]\n",
    "\n",
    "intersections_N1 =gseries[\"N1\"].intersection(intersecting_N1).drop(\"N1\")\n",
    "intersections_N2 =gseries[\"N2\"].intersection(intersecting_N2).drop(\"N2\")\n",
    "\n",
    "gdf_N1 =gdf[gdf[\"road\"]==\"N1\"]\n",
    "gdf_N2 =gdf[gdf[\"road\"]==\"N2\"]"
   ],
   "metadata": {
    "collapsed": false
   },
   "id": "cca608748e30aa69",
   "execution_count": null
  },
  {
   "cell_type": "code",
   "outputs": [],
   "source": [
    "pd.concat([intersections_N1,intersections_N2]).to_csv(main_folder_path + \"\\\\data\\\\intersections_BONUS.csv\")\n"
   ],
   "metadata": {
    "collapsed": false
   },
   "id": "dc961ed33340e813",
   "execution_count": null
  },
  {
   "cell_type": "code",
   "outputs": [],
   "source": [
    "def process_intersection_data(gdf_data, intersect_data):\n",
    "    df_list = []\n",
    "    index_list = []\n",
    "    closest_points = []\n",
    "    empty_dataframe = gpd.GeoDataFrame(columns=list(gdf.columns)+[\"intersec_to\"],crs=\"EPSG:4326\")\n",
    "\n",
    "    for intersect_index_N1 in intersect_data.index:\n",
    "        intersect_point_N1 = intersect_data[intersect_index_N1]\n",
    "        min_dist = 10000\n",
    "\n",
    "        for N1_index in gdf_data.index:\n",
    "            N1_point = gdf_data.loc[N1_index, \"geometry\"]\n",
    "            dist = distance(N1_point, intersect_point_N1)\n",
    "\n",
    "            if dist < min_dist:\n",
    "                min_dist = dist\n",
    "                closest_point = N1_index\n",
    "        series = gdf_data.loc[closest_point]\n",
    "        series[\"intersec_to\"]=intersect_index_N1    \n",
    "        empty_dataframe.loc[closest_point]=series\n",
    "\n",
    "\n",
    "        index_list.append(intersect_index_N1)\n",
    "        closest_points.append(closest_point)\n",
    "    \n",
    "    \n",
    "    empty_dataframe[\"type\"] = \"intersection\"\n",
    "    \n",
    "    return empty_dataframe\n",
    "\n",
    "df_intersections_main_N1 = process_intersection_data(gdf_N1, intersections_N1)\n",
    "\n",
    "df_intersections_main_N2 = process_intersection_data(gdf_N2, intersections_N2)\n",
    "df_intersections_main =pd.concat([df_intersections_main_N1,df_intersections_main_N2], axis=0, ignore_index=True)\n",
    "df_intersections_main.to_csv(main_folder_path+\"\\\\data\\\\intersections_main.csv\")"
   ],
   "metadata": {
    "collapsed": false
   },
   "id": "ab65f0bb7653356a",
   "execution_count": null
  },
  {
   "cell_type": "markdown",
   "source": [],
   "metadata": {
    "collapsed": false
   },
   "id": "77c4e53ed1008f71"
  },
  {
   "cell_type": "code",
   "outputs": [],
   "source": [
    "Side_to_N1 = gpd.GeoDataFrame(columns=list(gdf.columns)+[\"intersec_to\"],crs=\"EPSG:4326\")\n",
    "for road_name in intersections_N1.index:\n",
    "    road_gdf = gdf[gdf[\"road\"]==road_name]\n",
    "    intersect_point_N1 =intersections_N1[road_name]\n",
    "    min_dist=10000\n",
    "    for road_point_index in road_gdf.index:\n",
    "        road_point =road_gdf.loc[road_point_index,\"geometry\"]\n",
    "        dist =distance(intersect_point_N1,road_point)\n",
    "        if  dist< min_dist:\n",
    "            min_dist = dist\n",
    "            closest_point =road_point_index\n",
    "    series = road_gdf.loc[closest_point]\n",
    "    series[\"intersec_to\"]=\"N1\"   \n",
    "    Side_to_N1.loc[closest_point]=series\n",
    "\n",
    "\n",
    "Side_to_N2 = gpd.GeoDataFrame(columns=list(gdf.columns)+[\"intersec_to\"],crs=\"EPSG:4326\")\n",
    "for road_name in intersections_N2.index:\n",
    "    road_gdf = gdf[gdf[\"road\"]==road_name]\n",
    "    intersect_point_N2 =intersections_N2[road_name]\n",
    "    min_dist=10000\n",
    "    for road_point_index in road_gdf.index:\n",
    "        road_point =road_gdf.loc[road_point_index,\"geometry\"]\n",
    "        dist =distance(intersect_point_N2,road_point)\n",
    "        if  dist< min_dist:\n",
    "            min_dist = dist\n",
    "            closest_point =road_point_index\n",
    "    series = road_gdf.loc[closest_point]\n",
    "    series[\"intersec_to\"]=\"N2\"   \n",
    "    Side_to_N2.loc[closest_point]=series\n",
    " \n",
    "df_intersections_side = pd.concat([Side_to_N1,Side_to_N2], axis=0, ignore_index=True)\n",
    "df_intersections_side[\"type\"]= \"intersection\""
   ],
   "metadata": {
    "collapsed": false
   },
   "id": "f804d84f4d500b4f",
   "execution_count": null
  },
  {
   "cell_type": "code",
   "outputs": [],
   "source": [
    "fig, ax = plt.subplots(1,1,figsize=(10,10))\n",
    "\n",
    "roads_plot = gseries_test[gseries_test.index.isin(df_intersections_main[\"intersec_to\"])]\n",
    "df_roads_plot =gseries_test[gseries_test.index.isin(df_intersections_main[\"intersec_to\"])].reset_index()\n",
    "df_roads_plot.plot(ax=ax,cmap=\"Set1\",column=\"index\",legend=True)\n",
    "intersections_N2.plot(ax=ax)\n",
    "\n",
    "cx.add_basemap(ax=ax,crs=\"EPSG:4326\")\n",
    "ax.title.set_text(\"Roads intersecting with N1 and N2\")\n"
   ],
   "metadata": {
    "collapsed": false
   },
   "id": "7b0a9efabea17a6e",
   "execution_count": null
  },
  {
   "cell_type": "code",
   "outputs": [],
   "source": [
    "gdf_N208 = gdf[gdf[\"road\"]==\"N208\"]\n",
    "gdf_N207 = gdf[gdf[\"road\"] == \"N207\"]"
   ],
   "metadata": {
    "collapsed": false
   },
   "id": "4c2a326859c0751d",
   "execution_count": null
  },
  {
   "cell_type": "code",
   "outputs": [],
   "source": [
    "gdf_N208_closest_point = gdf_N208.loc[3512]\n",
    "gdf_N208_closest_point[\"intersec_to\"]=\"N207\""
   ],
   "metadata": {
    "collapsed": false
   },
   "id": "bdf809a3bed70f9d",
   "execution_count": null
  },
  {
   "cell_type": "code",
   "outputs": [],
   "source": [
    "min_dist = 10000\n",
    "for N1_index in gdf_N207.index:\n",
    "    N1_point = gdf_N207.loc[N1_index, \"geometry\"]\n",
    "    dist = distance(N1_point, gdf_N208_closest_point.loc[\"geometry\"])\n",
    "\n",
    "    if dist < min_dist:\n",
    "        min_dist = dist\n",
    "        closest_point = N1_index\n",
    "gdf_N207_closest_point= gdf_N207.loc[closest_point]\n",
    "gdf_N207_closest_point[\"intersec_to\"]=\"N208\"\n",
    "\n",
    "fig,ax = plt.subplots(1,1,figsize=(10,10))\n",
    "gdf_N208.plot(ax=ax)\n",
    "gdf_N207.plot(ax=ax,color=\"red\")\n",
    "gpd.GeoSeries(gdf_N208_closest_point.loc[\"geometry\"],crs=\"EPSG:4326\").plot(ax=ax,color=\"yellow\")\n",
    "gpd.GeoSeries(gdf_N207_closest_point.loc[\"geometry\"],crs=\"EPSG:4326\").plot(ax=ax,color=\"green\")\n",
    "ax.title.set_text(\"Manually found intersection of side road\")\n",
    "cx.add_basemap(ax=ax,crs=\"EPSG:4326\")\n"
   ],
   "metadata": {
    "collapsed": false
   },
   "id": "b53da47fd7ad0024",
   "execution_count": null
  },
  {
   "cell_type": "code",
   "outputs": [],
   "source": [
    "df_intersections_all =pd.concat([df_intersections_main,\n",
    "                                 df_intersections_side,\n",
    "                                 gpd.GeoDataFrame(gdf_N207_closest_point).T,\n",
    "                                 gpd.GeoDataFrame(gdf_N208_closest_point).T],axis=0, ignore_index=True)\n",
    "\n",
    "main_folder_path =os.path.normpath(os.getcwd() + os.sep + os.pardir)\n",
    "df_intersections_all.to_csv(main_folder_path+\"\\\\data\\\\intersections.csv\")"
   ],
   "metadata": {
    "collapsed": false
   },
   "id": "5d38ea6546a59d2d",
   "execution_count": null
  }
 ],
 "metadata": {
  "kernelspec": {
   "name": "gds",
   "language": "python",
   "display_name": "gds"
  },
  "language_info": {
   "codemirror_mode": {
    "name": "ipython",
    "version": 3
   },
   "file_extension": ".py",
   "mimetype": "text/x-python",
   "name": "python",
   "nbconvert_exporter": "python",
   "pygments_lexer": "ipython3",
   "version": "3.8.18"
  }
 },
 "nbformat": 4,
 "nbformat_minor": 5
}
