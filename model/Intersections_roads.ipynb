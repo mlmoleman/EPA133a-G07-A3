{
 "cells": [
  {
   "cell_type": "code",
   "execution_count": 484,
   "id": "83572951-689a-4616-a697-06833bd28e8e",
   "metadata": {
    "ExecuteTime": {
     "end_time": "2024-03-20T15:51:45.653823Z",
     "start_time": "2024-03-20T15:51:45.643119Z"
    }
   },
   "outputs": [],
   "source": [
    "import os\n",
    "os.environ['USE_PYGEOS'] = '0'\n",
    "import pandas as pd\n",
    "import geopandas as gpd\n",
    "import matplotlib.pyplot as plt\n",
    "import contextily as cx \n",
    "from shapely.geometry import Point, LineString\n",
    "from shapely import distance\n",
    "import numpy as np\n",
    "from pyproj import Transformer\n",
    "from shapely.geometry import LineString\n",
    "import shapely.ops as sp_ops\n",
    "import warnings\n",
    "warnings.filterwarnings(\"ignore\")"
   ]
  },
  {
   "cell_type": "code",
   "execution_count": 485,
   "id": "initial_id",
   "metadata": {
    "ExecuteTime": {
     "end_time": "2024-03-20T15:51:46.094813Z",
     "start_time": "2024-03-20T15:51:45.936557Z"
    }
   },
   "outputs": [],
   "source": [
    "main_folder_path =os.path.normpath(os.getcwd() + os.sep + os.pardir)\n",
    "df =pd.read_csv(main_folder_path+\"\\\\data\\\\_roads3.csv\")"
   ]
  },
  {
   "cell_type": "markdown",
   "source": [],
   "metadata": {
    "collapsed": false
   },
   "id": "c3b7535fc2b90333"
  },
  {
   "cell_type": "code",
   "outputs": [],
   "source": [
    "gdf = gpd.GeoDataFrame(\n",
    "    df, geometry=gpd.points_from_xy(df.lon, df.lat), crs=\"EPSG:4326\")"
   ],
   "metadata": {
    "collapsed": false,
    "ExecuteTime": {
     "end_time": "2024-03-20T15:51:46.181565Z",
     "start_time": "2024-03-20T15:51:46.099503Z"
    }
   },
   "id": "d97b63f3bdc3a396",
   "execution_count": 486
  },
  {
   "cell_type": "code",
   "outputs": [],
   "source": [
    "from shapely import buffer  "
   ],
   "metadata": {
    "collapsed": false,
    "ExecuteTime": {
     "end_time": "2024-03-20T15:51:46.196405Z",
     "start_time": "2024-03-20T15:51:46.187734Z"
    }
   },
   "id": "c278a3a5df7398ce",
   "execution_count": 487
  },
  {
   "cell_type": "code",
   "outputs": [],
   "source": [
    "road_names =gdf[\"road\"].unique()\n",
    "road_names_N1= [road for road in road_names if road.startswith(\"N\")]\n",
    "# print(road_names)\n",
    "line_dict = {}\n",
    "line_dict_test = {}\n",
    "for road_name in road_names_N1:\n",
    "    # if road_name.startswith('N'):\n",
    "    bridges_road = gdf[gdf[\"road\"] == road_name]\n",
    "        # bridges_road=bridges_road.sort_ values(by=['km'])\n",
    "    if len(bridges_road[\"geometry\"]) >= 2:\n",
    "            line =LineString(bridges_road[\"geometry\"])\n",
    "            line_transformed = sp_ops.transform(transformer.transform ,line).length\n",
    "            if line_transformed > 25000:\n",
    "                line_dict[road_name] =buffer(LineString(bridges_road[\"geometry\"]),0.008)\n",
    "                line_dict_test[road_name] =line\n",
    "\n",
    "gseries =gpd.GeoSeries(line_dict.values(), index=line_dict.keys(), crs=4326)\n",
    "gseries_test =gpd.GeoSeries(line_dict_test.values(), index=line_dict_test.keys(), crs=4326)"
   ],
   "metadata": {
    "collapsed": false,
    "ExecuteTime": {
     "end_time": "2024-03-20T15:51:48.049964Z",
     "start_time": "2024-03-20T15:51:46.200067Z"
    }
   },
   "id": "7d6bad5e0b2da299",
   "execution_count": 488
  },
  {
   "cell_type": "code",
   "outputs": [],
   "source": [
    "cross_index_N1=[]\n",
    "for index in gseries.index:\n",
    "    if gseries[\"N1\"].intersects(gseries[index]):\n",
    "        cross_index_N1.append(index)\n",
    "cross_index_N2=[]\n",
    "for index in gseries.index:\n",
    "    if gseries[\"N2\"].intersects(gseries[index]):\n",
    "        cross_index_N2.append(index)\n",
    "\n",
    "intersecting_N1 =gseries[gseries.index.isin(cross_index_N1)]\n",
    "intersecting_N2 =gseries[gseries.index.isin(cross_index_N2)]\n",
    "\n",
    "intersections_N1 =gseries[\"N1\"].intersection(intersecting_N1).drop(\"N1\")\n",
    "intersections_N2 =gseries[\"N2\"].intersection(intersecting_N2).drop(\"N2\")\n",
    "\n",
    "gdf_N1 =gdf[gdf[\"road\"]==\"N1\"]\n",
    "gdf_N2 =gdf[gdf[\"road\"]==\"N2\"]"
   ],
   "metadata": {
    "collapsed": false,
    "ExecuteTime": {
     "end_time": "2024-03-20T15:51:48.238617Z",
     "start_time": "2024-03-20T15:51:48.053551Z"
    }
   },
   "id": "cca608748e30aa69",
   "execution_count": 489
  },
  {
   "cell_type": "code",
   "outputs": [],
   "source": [
    "def process_intersection_data(gdf_data, intersect_data):\n",
    "    df_list = []\n",
    "    index_list = []\n",
    "    closest_points = []\n",
    "    empty_dataframe = gpd.GeoDataFrame(columns=list(gdf.columns)+[\"intersec_to\"],crs=\"EPSG:4326\")\n",
    "\n",
    "    for intersect_index_N1 in intersect_data.index:\n",
    "        intersect_point_N1 = intersect_data[intersect_index_N1]\n",
    "        min_dist = 10000\n",
    "\n",
    "        for N1_index in gdf_data.index:\n",
    "            N1_point = gdf_data.loc[N1_index, \"geometry\"]\n",
    "            dist = distance(N1_point, intersect_point_N1)\n",
    "\n",
    "            if dist < min_dist:\n",
    "                min_dist = dist\n",
    "                closest_point = N1_index\n",
    "        series = gdf_data.loc[closest_point]\n",
    "        series[\"intersec_to\"]=intersect_index_N1    \n",
    "        empty_dataframe.loc[closest_point]=series\n",
    "\n",
    "\n",
    "        index_list.append(intersect_index_N1)\n",
    "        closest_points.append(closest_point)\n",
    "    \n",
    "    \n",
    "    empty_dataframe[\"type\"] = \"intersection\"\n",
    "    \n",
    "    return empty_dataframe\n",
    "\n",
    "# Process intersection data for gdf_N1\n",
    "df_intersections_main_N1 = process_intersection_data(gdf_N1, intersections_N1)\n",
    "\n",
    "# Process intersection data for gdf_N2\n",
    "df_intersections_main_N2 = process_intersection_data(gdf_N2, intersections_N2)\n",
    "df_intersections_main =pd.concat([df_intersections_main_N1,df_intersections_main_N2], axis=0, ignore_index=True)\n",
    "df_intersections_main.to_csv(main_folder_path+\"\\\\data\\\\intersections_main.csv\")"
   ],
   "metadata": {
    "collapsed": false,
    "ExecuteTime": {
     "end_time": "2024-03-20T15:51:48.988194Z",
     "start_time": "2024-03-20T15:51:48.242202Z"
    }
   },
   "id": "ab65f0bb7653356a",
   "execution_count": 490
  },
  {
   "cell_type": "markdown",
   "source": [],
   "metadata": {
    "collapsed": false
   },
   "id": "77c4e53ed1008f71"
  },
  {
   "cell_type": "code",
   "outputs": [],
   "source": [
    "df_list = []\n",
    "for road_name in intersections_N1.index:\n",
    "    road_gdf = gdf[gdf[\"road\"]==road_name]\n",
    "    intersect_point_N1 =intersections_N1[road_name]\n",
    "    min_dist=10000\n",
    "    for road_point_index in road_gdf.index:\n",
    "        road_point =road_gdf.loc[road_point_index,\"geometry\"]\n",
    "        dist =distance(intersect_point_N1,road_point)\n",
    "        if  dist< min_dist:\n",
    "            min_dist = dist\n",
    "            closest_point =road_point_index\n",
    "    df_list.append(road_gdf[road_gdf.index == closest_point])\n",
    "    \n",
    "for road_name in intersections_N2.index:\n",
    "    road_gdf = gdf[gdf[\"road\"]==road_name]\n",
    "    intersect_point_N2 =intersections_N2[road_name]\n",
    "    min_dist=10000\n",
    "    for road_point_index in road_gdf.index:\n",
    "        road_point =road_gdf.loc[road_point_index,\"geometry\"]\n",
    "        dist =distance(intersect_point_N2,road_point)\n",
    "        if  dist< min_dist:\n",
    "            min_dist = dist\n",
    "            closest_point =road_point_index\n",
    "    df_list.append(road_gdf[road_gdf.index == closest_point])  \n",
    "    \n",
    "df_intersections_side = pd.concat(df_list, axis=0, ignore_index=True)\n",
    "df_intersections_side[\"type\"]= \"intersection\"\n",
    "\n",
    "df_intersections_side.to_csv(main_folder_path+\"\\\\data\\\\intersections_side.csv\")"
   ],
   "metadata": {
    "collapsed": false,
    "ExecuteTime": {
     "end_time": "2024-03-20T15:51:49.560651Z",
     "start_time": "2024-03-20T15:51:49.133713Z"
    }
   },
   "id": "f804d84f4d500b4f",
   "execution_count": 496
  },
  {
   "cell_type": "code",
   "outputs": [
    {
     "data": {
      "text/plain": "<Axes: >"
     },
     "execution_count": 499,
     "metadata": {},
     "output_type": "execute_result"
    },
    {
     "data": {
      "text/plain": "<Figure size 1000x1000 with 1 Axes>",
      "image/png": "[encoded data removed]"
     },
     "metadata": {},
     "output_type": "display_data"
    }
   ],
   "source": [
    "fig, ax = plt.subplots(1,1,figsize=(10,10))\n",
    "# Process intersection data for gdf_N1\n",
    "df_intersections_main.plot(ax=ax)\n",
    "gseries_test[gseries_test.index.isin(df_intersections_main[\"intersec_to\"])].plot(ax=ax)\n",
    "df_intersections_side.plot(ax=ax,color=\"red\")\n",
    "# Process intersection data for gdf_N2\n",
    "# df_intersections_main_N2.plot(ax=ax)"
   ],
   "metadata": {
    "collapsed": false,
    "ExecuteTime": {
     "end_time": "2024-03-20T15:51:50.125269Z",
     "start_time": "2024-03-20T15:51:49.596462Z"
    }
   },
   "id": "7b0a9efabea17a6e",
   "execution_count": 499
  },
  {
   "cell_type": "code",
   "outputs": [],
   "source": [
    "gseries_test[gseries_test.index.isin(df_intersections_main[\"intersec_to\"])"
   ],
   "metadata": {
    "collapsed": false
   },
   "id": "b8e76752029b36c6"
  }
 ],
 "metadata": {
  "kernelspec": {
   "name": "gds",
   "language": "python",
   "display_name": "gds"
  },
  "language_info": {
   "codemirror_mode": {
    "name": "ipython",
    "version": 3
   },
   "file_extension": ".py",
   "mimetype": "text/x-python",
   "name": "python",
   "nbconvert_exporter": "python",
   "pygments_lexer": "ipython3",
   "version": "3.8.18"
  }
 },
 "nbformat": 4,
 "nbformat_minor": 5
}
